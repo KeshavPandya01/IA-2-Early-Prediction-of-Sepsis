{
 "cells": [
  {
   "cell_type": "code",
   "execution_count": 2,
   "metadata": {
    "code_folding": [],
    "slideshow": {
     "slide_type": "skip"
    }
   },
   "outputs": [
    {
     "data": {
      "text/html": [
       "    \n",
       "<!-- reveal.js CSS theme and local overrides -->\n",
       "<link rel=\"stylesheet\" href=\"https://fonts.googleapis.com/css?family=Open+Sans:300,400,600,700&amp;lang=en\"/>\n",
       "<link rel=\"stylesheet\" href=\"https://fonts.googleapis.com/css?family=Merriweather:italic&amp;lang=en\"/>\n",
       "<link rel=\"stylesheet\" href=\"mycss.css\"/>  \n"
      ],
      "text/plain": [
       "<IPython.core.display.HTML object>"
      ]
     },
     "metadata": {},
     "output_type": "display_data"
    }
   ],
   "source": [
    "%%HTML\n",
    "    \n",
    "<!-- reveal.js CSS theme and local overrides -->\n",
    "<link rel=\"stylesheet\" href=\"https://fonts.googleapis.com/css?family=Open+Sans:300,400,600,700&amp;lang=en\"/>\n",
    "<link rel=\"stylesheet\" href=\"https://fonts.googleapis.com/css?family=Merriweather:italic&amp;lang=en\"/>\n",
    "<link rel=\"stylesheet\" href=\"mycss.css\"/>  \n"
   ]
  },
  {
   "cell_type": "markdown",
   "metadata": {
    "slideshow": {
     "slide_type": "skip"
    }
   },
   "source": [
    "\n",
    "\n"
   ]
  },
  {
   "cell_type": "code",
   "execution_count": 3,
   "metadata": {
    "slideshow": {
     "slide_type": "skip"
    }
   },
   "outputs": [],
   "source": [
    "import pandas as pd\n",
    "import os\n",
    "from datetime import date\n",
    "import markdown\n",
    "from IPython.display import HTML\n",
    "\n",
    "# Set information:\n",
    "event = 'ENI Carthage'\n",
    "title = 'Capstone Project'\n",
    "subtitle = 'Msc'\n",
    "today = date.today().strftime('%d-%m-%Y')\n",
    "\n",
    "# presenter information:\n",
    "name = 'MPSDM'\n",
    "email = 'abdallah.khemais@gmail.com'\n",
    "twitter = '@twitter'\n",
    "url = 'https://github.com/nevermind78'"
   ]
  },
  {
   "cell_type": "code",
   "execution_count": 4,
   "metadata": {
    "slideshow": {
     "slide_type": "skip"
    }
   },
   "outputs": [
    {
     "data": {
      "text/html": [
       "<button style=\"margin:0 auto; display: block;\" onclick=\"jQuery('.code_cell .input_area').toggle();\n",
       "    jQuery('.prompt').toggle();\">Toggle code</button>"
      ],
      "text/plain": [
       "<IPython.core.display.HTML object>"
      ]
     },
     "execution_count": 4,
     "metadata": {},
     "output_type": "execute_result"
    }
   ],
   "source": [
    "# set HTMLs\n",
    "email_html = HTML(f\"<a href='mailto:{email}'>{email}</a>\")\n",
    "twitter_html = HTML(f\"<a href='https://twitter.com/{twitter.split('@')[-1]}'>{twitter}</a>\")\n",
    "url_html = HTML(f\"<a href='{url}'>{url}</a>\")\n",
    "footer_html = HTML(f\"<div class='footer'>{event} | {title} | {today}</div>\")\n",
    "\n",
    "# This line will add a button to toggle visibility of code blocks,\n",
    "# for use with the HTML export version\n",
    "toggle = HTML('''<button style=\"margin:0 auto; display: block;\" onclick=\"jQuery('.code_cell .input_area').toggle();\n",
    "    jQuery('.prompt').toggle();\">Toggle code</button>''')\n",
    "toggle"
   ]
  },
  {
   "cell_type": "markdown",
   "metadata": {
    "slideshow": {
     "slide_type": "slide"
    },
    "variables": {
     "name": "Your Name MSc.",
     "subtitle": "Subtitle goes here",
     "title": "Title goes here"
    }
   },
   "source": [
    "<section id=\"title-slide\">\n",
    "<table class=\"kms\" border=\"0\"  width=\"100%\"  style=\"width:100%;text-align:center;\">\n",
    "  <tr>\n",
    "    <td width=\"99%\" align=\"center\" ><p class=\"fragment fade-down\" data-fragment-index=\"3\"><img src=\"./img/enic.jpg\" width=\"350\" height=\"350\" style=\"border-radius: 10px\"></p></td>\n",
    "    <td width=\"99%\" align=\"center\"><p class=\"fragment fade-up\" data-fragment-index=\"3\"><img src=\"./img/ibm.jpg\" width=\"350\" height=\"350\" style=\"border-radius: 10px\"></p></td> \n",
    "    <td width=\"99%\" align=\"center\"><p class=\"fragment fade-down\" data-fragment-index=\"3\"><img src=\"./img/uvt.jpg\" width=\"350\" height=\"350\" style=\"border-radius: 10px\"></p></td>\n",
    "  </tr>\n",
    "</table>\n",
    "    <br><h1><i><p class=\"fragment\" data-fragment-index=\"1\">Early Prediction of Sepsis From Clinical\n",
    "Data</p></i></h1>\n",
    "    <h4><i><p class=\"fragment\" data-fragment-index=\"1\">Master Degree in Computer Science\n",
    "Speciality : Data Science and Mobiquity</p></i></h4>\n",
    "    <br><br><br><br><br><br>\n",
    "    <div class=\"uu_title_container\">\n",
    "        <smaller>\n",
    "        <div class='column'><p class=\"fragment\" data-fragment-index=\"2\">\n",
    "            <b>Presented by:</b><br>Abdallah Khemais\n",
    "            </p></div>  \n",
    "        <div class='column'><p class=\"fragment\" data-fragment-index=\"2\">\n",
    "            <b>Academic guidance: </b> <br>Dr Walid Barhoumi\n",
    "            </p></div>    \n",
    "       </smaller>\n",
    "    </div>\n",
    "</section>"
   ]
  },
  {
   "cell_type": "markdown",
   "metadata": {
    "slideshow": {
     "slide_type": "slide"
    },
    "variables": {
     "footer_html": "<div class='footer'>Name of Event | Title goes here | 26-02-2021</div>"
    }
   },
   "source": [
    "<h1 ><p class=\"fragment fade-up\"><span class=\"presentation_title\">Content</span></p></h1>\n",
    "\n",
    "<h3 ><p class=\"fragment fade-up\"><span class=\"bkg_contrastR\">1 Introduction</span></p></h3>\n",
    "\n",
    "<h3 ><p class=\"fragment fade-up\"><span class=\"bkg_contrastR\">2 Objectives</span></p></h3>\n",
    "<h3 ><p class=\"fragment fade-up\"><span class=\"bkg_contrastR\">3 Drawbacks of Existing Systems</span></p></h3>\n",
    "<h3 ><p class=\"fragment fade-up\"><span class=\"bkg_contrastR\">4 Action Plan</span></p></h3>\n",
    "\n",
    "<h3 ><p class=\"fragment fade-up\"><span class=\"bkg_contrastR\">5 Conclusion & Future Scope</span></p></h3>\n",
    "\n",
    "\n"
   ]
  },
  {
   "cell_type": "markdown",
   "metadata": {
    "slideshow": {
     "slide_type": "subslide"
    }
   },
   "source": [
    "\n",
    "<h1 ><p class=\"fragment fade-up\" data-fragment-index=\"1\"><span class=\"presentation_title\">1 Introduction</span></p></h1>\n",
    "<h2 ><p class=\"fragment fade-up\" data-fragment-index=\"2\"><span class=\"bkg_contrastB\">About Sepsis</span></p></h2>\n",
    "<div style=\"display: flex; justify-content: space-around;\"class=\"center\">\n",
    "<p class=\"fragment fade-up\" data-fragment-index=\"4\" align=\"center\" ><img src=\"./img/sepsis.jpg\" width=\"350\" height=\"350\" style=\"border-radius: 10px\"></p> &nbsp;  &nbsp; &nbsp;&nbsp;<p class=\"fragment fade-up\" data-fragment-index=\"4\" align=\"center\" ><img src=\"./img/Sstat.jpg\" width=\"800\" height=\"600\" style=\"border-radius: 10px\"></p>\n",
    "    </div>\n",
    "<div>\n",
    " <p class=\"fragment fade-up\" data-fragment-index=\"3\" align=\"center\" >What is Sepsis ?<span class=\"fragment fade-up\" data-fragment-index=\"4\">\n",
    "Sepsis is a potentially life-threatening condition caused by the body’s response to an infection.</span></p> <p class=\"fragment fade-up\" data-fragment-index=\"5\" align=\"center\" >In a usual case, the body releases chemicals into bloodstream to neutralise an infection.</p> <p class=\"fragment fade-up\" data-fragment-index=\"6\" align=\"center\" >It occurs when the body’s response to these chemicals is out of balance, triggering changes that can damage multiple organ systems.</p>\n",
    "<p class=\"fragment fade-up\" data-fragment-index=\"7\" align=\"center\" >Sepsis is caused by infection and can happen to anyone, is most common and most dangerous in:<br>\n",
    "<span class=\"fragment fade-up\" data-fragment-index=\"8\" ><span class=\"bkg_contrastR\">Older adults</span></span> \n",
    "<span class=\"fragment fade-up\" data-fragment-index=\"9\"><span class=\"bkg_contrastR\">Pregnant women</span></span> \n",
    "<span class=\"fragment fade-up\" data-fragment-index=\"10\"><span class=\"bkg_contrastR\">Children younger than 1</span></span>  \n",
    "<span class=\"fragment fade-up\" data-fragment-index=\"11\"><span class=\"bkg_contrastR\">People who have chronic conditions, such as diabetes, kidney or lung disease, or cancer</span></span><br>  \n",
    "<span class=\"fragment fade-up\" data-fragment-index=\"12\"><span class=\"bkg_contrastR\">People who have weakened immune systems</span></span>\n",
    "\n",
    "</div>"
   ]
  },
  {
   "cell_type": "markdown",
   "metadata": {
    "slideshow": {
     "slide_type": "subslide"
    }
   },
   "source": [
    "<h2 ><p class=\"fragment fade-up\" data-fragment-index=\"1\"><span class=\"presentation_title\">1.1 Sepsis - Affect and Symptoms</span></p></h2>\n",
    "<div>\n",
    " <p class=\"fragment fade-up\" data-fragment-index=\"2\" align=\"center\" >Sepsis can be difficult to diagnose because it occurs quickly and can be confused with other conditions. \n",
    "<p class=\"fragment fade-up\" data-fragment-index=\"3\" align=\"center\" >Watch for a combination of the following symptoms:<br>\n",
    "<p class=\"fragment fade-up\" data-fragment-index=\"4\" ><span class=\"bkg_contrastR\">S</span>&nbsp;<span class=\"fragment fade-up\" data-fragment-index=\"5\">Shivering, fever, or very cold</span></p> \n",
    "<p class=\"fragment fade-up\" data-fragment-index=\"4\"><span class=\"bkg_contrastR\">E</span>&nbsp;<span class=\"fragment fade-up\" data-fragment-index=\"6\">Extreme pain or general discomfort (“worst ever”)</span></p> \n",
    "<p class=\"fragment fade-up\" data-fragment-index=\"4\"><span class=\"bkg_contrastR\">P</span>&nbsp;<span class=\"fragment fade-up\" data-fragment-index=\"7\"> Pale or discolored skin</span></p>  \n",
    "<p class=\"fragment fade-up\" data-fragment-index=\"4\"><span class=\"bkg_contrastR\">S</span>&nbsp;<span class=\"fragment fade-up\" data-fragment-index=\"8\">Sleepy, difficult to rouse, confused</span></p> \n",
    "<p class=\"fragment fade-up\" data-fragment-index=\"4\"><span class=\"bkg_contrastR\">I</span>&nbsp;<span class=\"fragment fade-up\" data-fragment-index=\"9\">\"I feel like I might die!\"</span></p>\n",
    "<p class=\"fragment fade-up\" data-fragment-index=\"4\"><span class=\"bkg_contrastR\">S</span>&nbsp;<span class=\"fragment fade-up\" data-fragment-index=\"10\">Short of breath</span></p>\n",
    "\n",
    "</div>"
   ]
  },
  {
   "cell_type": "markdown",
   "metadata": {
    "slideshow": {
     "slide_type": "slide"
    }
   },
   "source": [
    "<h1 ><p class=\"fragment fade-up\" data-fragment-index=\"1\"><span class=\"presentation_title\">2 Objectives</span></p></h1>\n",
    "<div>\n",
    " <p class=\"fragment fade-up\" data-fragment-index=\"2\" align=\"center\" >The goal of the analysis is the <span class=\"bkg_contrastR\">early detection of sepsis</span> using physiological data.\n",
    "<p class=\"fragment fade-down\" data-fragment-index=\"3\" align=\"center\" >The early prediction of sepsis is potentially <span class=\"bkg_contrastR\"> life-saving</span>, <span class=\"fragment fade-up\" data-fragment-index=\"4\" >and we aim to predict sepsis <span class=\"bkg_contrastR\">6 hours before the clinical prediction.  </span></span>\n",
    "<p class=\"fragment fade-right\" data-fragment-index=\"5\" align=\"center\" >Late prediction of sepsis is potentially <span class=\"bkg_contrastB\">life-threatening</span>, and also consumes <span class=\"bkg_contrastB\">heavy hospital resources</span>.</p>\n",
    "<p class=\"fragment fade-left\" data-fragment-index=\"6\" align=\"center\" >By predicting sepsis in non-sepsis patients or predicting sepsis very early in sepsis patients <span class=\"bkg_contrastR\">consumes limited resources</span> and we can assume the risk of prediction to be <span class=\"bkg_contrastR\">minimal</span> but revolutionary.</p>\n",
    "\n",
    "</div>"
   ]
  },
  {
   "cell_type": "markdown",
   "metadata": {
    "slideshow": {
     "slide_type": "slide"
    }
   },
   "source": [
    "\n",
    "<h1 ><p class=\"fragment fade-up\" data-fragment-index=\"1\"><span class=\"presentation_title\">2.1 Dataset</span></p></h1>\n",
    "<style type=\"text/css\">\n",
    ".tg  {border-collapse:collapse;text-align:center;vertical-align:middle;border-spacing:0;margin:0px auto;}\n",
    ".tg td{border-color:transparent;font-family:Arial,text-align:center;vertical-align:middle; sans-serif;font-size:14px;\n",
    "  overflow:hidden;padding:10px 5px;word-break:normal;}\n",
    ".tg th{border-color:transparent;font-family:Arial,text-align:center;vertical-align:middle; sans-serif;font-size:14px;\n",
    "  font-weight:normal;overflow:hidden;padding:10px 5px;word-break:normal;}\n",
    ".tg .tg-wp8o{border-color:transparent;text-align:center;vertical-align:middle}\n",
    "</style>\n",
    "<table class=\"kms\">\n",
    "<thead>\n",
    "  <tr>\n",
    "    <th ><span class=\"fragment fade-down\" data-fragment-index=\"2\" align=\"center\" ><img src=\"data:image/svg+xml,%3csvg xmlns='http://www.w3.org/2000/svg' viewBox='0 0 512 512'%3e%3cpath fill='%23711adb' d='M256 0C114.6 0 0 114.6 0 256s114.6 256 256 256 256-114.6 256-256S397.4 0 256 0zm112 376c0 4.4-3.6 8-8 8h-48c-4.4 0-8-3.6-8-8v-88h-96v88c0 4.4-3.6 8-8 8h-48c-4.4 0-8-3.6-8-8V136c0-4.4 3.6-8 8-8h48c4.4 0 8 3.6 8 8v88h96v-88c0-4.4 3.6-8 8-8h48c4.4 0 8 3.6 8 8v240z'/%3e%3c/svg%3e\" alt=\"Hospital A\" width=\"100\" height=\"100\"></span></th>\n",
    "    <th></th>\n",
    "    <th ><span class=\"fragment fade-down\" data-fragment-index=\"2\" align=\"center\" ><img src=\"data:image/svg+xml,%3csvg xmlns='http://www.w3.org/2000/svg' viewBox='0 0 512 512'%3e%3cpath fill='%231fdbbb' d='M256 0C114.6 0 0 114.6 0 256s114.6 256 256 256 256-114.6 256-256S397.4 0 256 0zm112 376c0 4.4-3.6 8-8 8h-48c-4.4 0-8-3.6-8-8v-88h-96v88c0 4.4-3.6 8-8 8h-48c-4.4 0-8-3.6-8-8V136c0-4.4 3.6-8 8-8h48c4.4 0 8 3.6 8 8v88h96v-88c0-4.4 3.6-8 8-8h48c4.4 0 8 3.6 8 8v240z'/%3e%3c/svg%3e\" alt=\"Hospital B\" width=\"100\" height=\"100\"></span></th>\n",
    "<th></th>\n",
    "  </tr>\n",
    "</thead>\n",
    "<tbody>\n",
    "  <tr>\n",
    "    <td ><p class=\"fragment fade-down\" data-fragment-index=\"3\" ><span class=\"bkg_contrastR\"> Hospital A</span><span class=\"fragment fade-up\" data-fragment-index=\"3\">Beth Deacones Medical Cente</span></td>\n",
    "    <td ></td>\n",
    "    <td ><p class=\"fragment fade-down\" data-fragment-index=\"3\" ><span class=\"bkg_contrastR\">  Hospital B</span><span class=\"fragment fade-up\" data-fragment-index=\"3\">Emory University Hospital</span></p></td>\n",
    "    <td rowspan=\"3\"><p class=\"fragment fade-up\" data-fragment-index=\"7\" align=\"center\" ><span class=\"bkg_contrastR\">Feature</span>\n",
    "<p class=\"fragment fade-up\" data-fragment-index=\"8\" ><span class=\"bkg_contrastB\">8 Vital Signs</span><span class=\"fragment fade-up\" data-fragment-index=\"12\">: Heart Rate, Temperature , Blood Pressure, Respiratory rate</span></p> \n",
    "<p class=\"fragment fade-up\" data-fragment-index=\"9\"><span class=\"bkg_contrastB\">26 Laboratory Values </span><span class=\"fragment fade-up\" data-fragment-index=\"13\">: Platelet Count, Glucose , Calcium etc ...</span></p> \n",
    "<p class=\"fragment fade-up\" data-fragment-index=\"10\"><span class=\"bkg_contrastB\">6 Demographics</span><span class=\"fragment fade-up\" data-fragment-index=\"14\">: Age, Gender, Time in ICU , Hospital Admit time</span></p>  \n",
    "<p class=\"fragment fade-up\" data-fragment-index=\"11\"><span class=\"bkg_contrastB\">1 Target Label</span><span class=\"fragment fade-up\" data-fragment-index=\"15\">: 0 (Non-sepsis) and 1 (Sepsis)\n",
    "</span></p></td>\n",
    "  </tr>\n",
    "  <tr>\n",
    "    <td ><span class=\"fragment fade-down\" data-fragment-index=\"4\" align=\"center\" ><img src=\"data:image/svg+xml,%3csvg xmlns='http://www.w3.org/2000/svg' viewBox='0 0 320 512'%3e%3cpath fill='%23711adb' d='M143 256.3L7 120.3c-9.4-9.4-9.4-24.6 0-33.9l22.6-22.6c9.4-9.4 24.6-9.4 33.9 0l96.4 96.4 96.4-96.4c9.4-9.4 24.6-9.4 33.9 0L313 86.3c9.4 9.4 9.4 24.6 0 33.9l-136 136c-9.4 9.5-24.6 9.5-34 .1zm34 192l136-136c9.4-9.4 9.4-24.6 0-33.9l-22.6-22.6c-9.4-9.4-24.6-9.4-33.9 0L160 352.1l-96.4-96.4c-9.4-9.4-24.6-9.4-33.9 0L7 278.3c-9.4 9.4-9.4 24.6 0 33.9l136 136c9.4 9.5 24.6 9.5 34 .1z'/%3e%3c/svg%3e\" alt=\"Image\" width=\"75\" height=\"75\"></span></td>\n",
    "    <td ></td>\n",
    "    <td ><span class=\"fragment fade-down\" data-fragment-index=\"4\" align=\"center\" ><img src=\"data:image/svg+xml,%3csvg xmlns='http://www.w3.org/2000/svg' viewBox='0 0 320 512'%3e%3cpath fill='%231fdbbb' d='M143 256.3L7 120.3c-9.4-9.4-9.4-24.6 0-33.9l22.6-22.6c9.4-9.4 24.6-9.4 33.9 0l96.4 96.4 96.4-96.4c9.4-9.4 24.6-9.4 33.9 0L313 86.3c9.4 9.4 9.4 24.6 0 33.9l-136 136c-9.4 9.5-24.6 9.5-34 .1zm34 192l136-136c9.4-9.4 9.4-24.6 0-33.9l-22.6-22.6c-9.4-9.4-24.6-9.4-33.9 0L160 352.1l-96.4-96.4c-9.4-9.4-24.6-9.4-33.9 0L7 278.3c-9.4 9.4-9.4 24.6 0 33.9l136 136c9.4 9.5 24.6 9.5 34 .1z'/%3e%3c/svg%3e\" alt=\"Image\" width=\"75\" height=\"75\"></span></td>\n",
    "  </tr>\n",
    "  <tr>\n",
    "    <td ><span class=\"fragment fade-down\" data-fragment-index=\"4\" align=\"center\" ><img src=\"data:image/svg+xml,%3csvg xmlns='http://www.w3.org/2000/svg' viewBox='0 0 448 512'%3e%3cpath fill='%23711adb' d='M448 73.143v45.714C448 159.143 347.667 192 224 192S0 159.143 0 118.857V73.143C0 32.857 100.333 0 224 0s224 32.857 224 73.143zM448 176v102.857C448 319.143 347.667 352 224 352S0 319.143 0 278.857V176c48.125 33.143 136.208 48.572 224 48.572S399.874 209.143 448 176zm0 160v102.857C448 479.143 347.667 512 224 512S0 479.143 0 438.857V336c48.125 33.143 136.208 48.572 224 48.572S399.874 369.143 448 336z'/%3e%3c/svg%3e\" alt=\"Image\" width=\"100\" height=\"100\"></span></td>\n",
    "    <td ></td>\n",
    "    <td ><span class=\"fragment fade-down\" data-fragment-index=\"4\" align=\"center\" ><img src=\"data:image/svg+xml,%3csvg xmlns='http://www.w3.org/2000/svg' viewBox='0 0 448 512'%3e%3cpath fill='%231fdbbb' d='M448 73.143v45.714C448 159.143 347.667 192 224 192S0 159.143 0 118.857V73.143C0 32.857 100.333 0 224 0s224 32.857 224 73.143zM448 176v102.857C448 319.143 347.667 352 224 352S0 319.143 0 278.857V176c48.125 33.143 136.208 48.572 224 48.572S399.874 209.143 448 176zm0 160v102.857C448 479.143 347.667 512 224 512S0 479.143 0 438.857V336c48.125 33.143 136.208 48.572 224 48.572S399.874 369.143 448 336z'/%3e%3c/svg%3e\" alt=\"Image\" width=\"100\" height=\"100\"></span></td>\n",
    "  </tr>\n",
    "  <tr >\n",
    "    <td  ><span class=\"fragment fade-down\" data-fragment-index=\"3\" ><p class=\"bkg_contrastR\" > Dataset_A.psv </p></span></td>\n",
    "    <td ></td>\n",
    "      <td ><span class=\"fragment fade-down\" data-fragment-index=\"3\" ><p class=\"bkg_contrastR\"> Dataset_B.psv </p></span></td>\n",
    "     \n",
    "  </tr>\n",
    "</tbody>\n",
    "</table>\n",
    "<div>\n",
    " <p class=\"fragment fade-up\" data-fragment-index=\"3\" align=\"center\" >Data used in the competition is sourced from ICU patients in two separate hospital systems and is obtained from Physionet.\n",
    "<p class=\"fragment fade-down\" data-fragment-index=\"4\" align=\"center\" >Data is collected from $40,336$ patients in both hospitals, and each patient has its own data file.</p>\n",
    "\n",
    "\n",
    "</div>\n"
   ]
  },
  {
   "cell_type": "markdown",
   "metadata": {
    "slideshow": {
     "slide_type": "subslide"
    }
   },
   "source": [
    "<h1 ><p class=\"fragment fade-up\" data-fragment-index=\"1\"><span class=\"presentation_title\">3 Drawbacks of Existing Systems</span></p></h1>\n",
    "\n",
    "<p class=\"fragment fade-up\" data-fragment-index=\"2\" align=\"center\" ><img style=\"width: 100%;\" src=\"./img/out1.png\"></p>\n",
    "\n",
    "<table style=\"color:white;font-size: 0.9em;\n",
    "  font-weight: bold;\">\n",
    "<thead>\n",
    "  <tr>\n",
    "    <td><span class=\"fragment fade-up\" data-fragment-index=\"4\" style=\"color:white;\"><span class=\"bkg_contrastB\">Gradient vanishing and exploding problems. Training an </span></span></td>\n",
    "    <td><span class=\"fragment fade-up\" data-fragment-index=\"3\" style=\"color:white\"><span class=\"bkg_contrastR\"  style=\"color:white\">LSTM</span></span></td>\n",
    "    <td><span class=\"fragment fade-up\" data-fragment-index=\"4\" style=\"color:white\"><span class=\"bkg_contrastB\" style=\"color:white\"> is a very difficult task. It cannot process very long sequences.</span></span></td>\n",
    "  </tr>\n",
    "</thead>\n",
    "</table>\n",
    "<table style=\"color:white;font-size: 0.9em;\n",
    "  font-weight: bold;\">\n",
    "<thead>\n",
    "  <tr>\n",
    "    <td><span class=\"fragment fade-up\" data-fragment-index=\"6\" style=\"color:white\"><span class=\"bkg_contrastB\" style=\"color:white\">Due to its recurrent nature, the computation is slow of an </span></span></td>\n",
    "    <td><span class=\"fragment fade-up\" data-fragment-index=\"5\" style=\"color:white\"><span class=\"bkg_contrastR\" style=\"color:white\">RNN</span></span></td>\n",
    "    <td><span class=\"fragment fade-up\" data-fragment-index=\"6\" style=\"color:white\"><span class=\"bkg_contrastB\" style=\"color:white\"> model and only gives 82% accuracy.</span></span></td>\n",
    "  </tr>\n",
    "</thead>\n",
    "\n",
    "</table >\n",
    "<table style=\"color:white;font-size: 0.9em;\n",
    "  font-weight: bold;\">\n",
    "<thead>\n",
    "  <tr>\n",
    "    <td><span class=\"fragment fade-up\" data-fragment-index=\"8\"style=\"color:white\" ><span class=\"bkg_contrastB\" style=\"color:white\">Classification will take more time with only an accuracy of 87% with an</span></span></td>\n",
    "    <td><span class=\"fragment fade-up\" data-fragment-index=\"7\" style=\"color:white\"><span class=\"bkg_contrastR\" style=\"color:white\">RBFNN</span></span></td>   <td><span class=\"fragment fade-up\" data-fragment-index=\"8\"style=\"color:white\" ><span class=\"bkg_contrastB\">model</span></span></td>\n",
    "    <td></td>\n",
    "  </tr>\n",
    "</thead>\n",
    "</table>\n"
   ]
  },
  {
   "cell_type": "markdown",
   "metadata": {
    "slideshow": {
     "slide_type": "slide"
    }
   },
   "source": [
    "<h1 ><p class=\"fragment fade-up\" data-fragment-index=\"1\"><span class=\"presentation_title\">4 Action Plan</span></p></h1>\n",
    "\n",
    "    \n",
    "<table class=\"kms\" style=\"border: none;\">\n",
    "<thead>\n",
    "  <tr>\n",
    "    <th></th>\n",
    "    <th></th>\n",
    "    <th></th>\n",
    "    <th></th>\n",
    "    <th></th>\n",
    "    <th></th>\n",
    "    <th></th>\n",
    "    <th><p class=\"fragment fade-down\" data-fragment-index=\"6\" ><span class=\"bkg_contrastR\">Dropping Missing Value</span></p></th>\n",
    "    <th></th>\n",
    "    <th><p class=\"fragment fade-down\" data-fragment-index=\"7\" ><span class=\"bkg_contrastR\">Feature Engeneering</span></p></th>\n",
    "    <th></th>\n",
    "    <th><p class=\"fragment fade-down\" data-fragment-index=\"8\" ><span class=\"bkg_contrastR\">Handling Data imbalance</span></p></th>\n",
    "    <th></th>\n",
    "    <th><p class=\"fragment fade-down\" data-fragment-index=\"9\" ><span class=\"bkg_contrastR\">Modeling</span></p></th>\n",
    "    <th></th>\n",
    "    <th><p class=\"fragment fade-down\" data-fragment-index=\"10\" ><span class=\"bkg_contrastR\">Evaluation</span></p></th>\n",
    "  </tr>\n",
    "</thead>\n",
    "<tbody>\n",
    "  <tr>\n",
    "    <td></td>\n",
    "    <td></td>\n",
    "    <td></td>\n",
    "    <td></td>\n",
    "    <td></td>\n",
    "    <td></td>\n",
    "    <td></td>\n",
    "    <td><span class=\"fragment fade-down\" data-fragment-index=\"6\" ><img src=\"data:image/svg+xml,%3csvg xmlns='http://www.w3.org/2000/svg' viewBox='0 0 352 512'%3e%3cpath fill='%231fdbbb' d='M242.72 256l100.07-100.07c12.28-12.28 12.28-32.19 0-44.48l-22.24-22.24c-12.28-12.28-32.19-12.28-44.48 0L176 189.28 75.93 89.21c-12.28-12.28-32.19-12.28-44.48 0L9.21 111.45c-12.28 12.28-12.28 32.19 0 44.48L109.28 256 9.21 356.07c-12.28 12.28-12.28 32.19 0 44.48l22.24 22.24c12.28 12.28 32.2 12.28 44.48 0L176 322.72l100.07 100.07c12.28 12.28 32.2 12.28 44.48 0l22.24-22.24c12.28-12.28 12.28-32.19 0-44.48L242.72 256z'/%3e%3c/svg%3e\" alt=\"Image\" width=\"50\" height=\"50\"></span></td>\n",
    "    <td><span class=\"fragment fade-down\" data-fragment-index=\"7\" ><img src=\"data:image/svg+xml,%3csvg xmlns='http://www.w3.org/2000/svg' viewBox='0 0 448 512'%3e%3cpath fill='%231fdbbb' d='M224.3 273l-136 136c-9.4 9.4-24.6 9.4-33.9 0l-22.6-22.6c-9.4-9.4-9.4-24.6 0-33.9l96.4-96.4-96.4-96.4c-9.4-9.4-9.4-24.6 0-33.9L54.3 103c9.4-9.4 24.6-9.4 33.9 0l136 136c9.5 9.4 9.5 24.6.1 34zm192-34l-136-136c-9.4-9.4-24.6-9.4-33.9 0l-22.6 22.6c-9.4 9.4-9.4 24.6 0 33.9l96.4 96.4-96.4 96.4c-9.4 9.4-9.4 24.6 0 33.9l22.6 22.6c9.4 9.4 24.6 9.4 33.9 0l136-136c9.4-9.2 9.4-24.4 0-33.8z'/%3e%3c/svg%3e\" alt=\"Image\" width=\"50\" height=\"50\"></span></td>\n",
    "    <td><span class=\"fragment fade-down\" data-fragment-index=\"7\" ><img src=\"data:image/svg+xml,%3csvg xmlns='http://www.w3.org/2000/svg' viewBox='0 0 576 512'%3e%3cpath fill='%231fdbbb' d='M402.6 83.2l90.2 90.2c3.8 3.8 3.8 10 0 13.8L274.4 405.6l-92.8 10.3c-12.4 1.4-22.9-9.1-21.5-21.5l10.3-92.8L388.8 83.2c3.8-3.8 10-3.8 13.8 0zm162-22.9l-48.8-48.8c-15.2-15.2-39.9-15.2-55.2 0l-35.4 35.4c-3.8 3.8-3.8 10 0 13.8l90.2 90.2c3.8 3.8 10 3.8 13.8 0l35.4-35.4c15.2-15.3 15.2-40 0-55.2zM384 346.2V448H64V128h229.8c3.2 0 6.2-1.3 8.5-3.5l40-40c7.6-7.6 2.2-20.5-8.5-20.5H48C21.5 64 0 85.5 0 112v352c0 26.5 21.5 48 48 48h352c26.5 0 48-21.5 48-48V306.2c0-10.7-12.9-16-20.5-8.5l-40 40c-2.2 2.3-3.5 5.3-3.5 8.5z'/%3e%3c/svg%3e\" alt=\"Image\" width=\"50\" height=\"50\"></span></td>\n",
    "    <td><span class=\"fragment fade-down\" data-fragment-index=\"8\" ><img src=\"data:image/svg+xml,%3csvg xmlns='http://www.w3.org/2000/svg' viewBox='0 0 448 512'%3e%3cpath fill='%231fdbbb' d='M224.3 273l-136 136c-9.4 9.4-24.6 9.4-33.9 0l-22.6-22.6c-9.4-9.4-9.4-24.6 0-33.9l96.4-96.4-96.4-96.4c-9.4-9.4-9.4-24.6 0-33.9L54.3 103c9.4-9.4 24.6-9.4 33.9 0l136 136c9.5 9.4 9.5 24.6.1 34zm192-34l-136-136c-9.4-9.4-24.6-9.4-33.9 0l-22.6 22.6c-9.4 9.4-9.4 24.6 0 33.9l96.4 96.4-96.4 96.4c-9.4 9.4-9.4 24.6 0 33.9l22.6 22.6c9.4 9.4 24.6 9.4 33.9 0l136-136c9.4-9.2 9.4-24.4 0-33.8z'/%3e%3c/svg%3e\" alt=\"Image\" width=\"50\" height=\"50\"></span></td>\n",
    "    <td><span class=\"fragment fade-down\" data-fragment-index=\"8\" ><img src=\"data:image/svg+xml,%3csvg xmlns='http://www.w3.org/2000/svg' viewBox='0 0 640 512'%3e%3cpath fill='%231fdbbb' d='M528 448H352V153.25c20.42-8.94 36.1-26.22 43.38-47.47l132-44.26c8.38-2.81 12.89-11.88 10.08-20.26l-10.17-30.34C524.48 2.54 515.41-1.97 507.03.84L389.11 40.37C375.3 16.36 349.69 0 320 0c-44.18 0-80 35.82-80 80 0 3.43.59 6.71 1.01 10.03l-128.39 43.05c-8.38 2.81-12.89 11.88-10.08 20.26l10.17 30.34c2.81 8.38 11.88 12.89 20.26 10.08l142.05-47.63c4.07 2.77 8.43 5.12 12.99 7.12V496c0 8.84 7.16 16 16 16h224c8.84 0 16-7.16 16-16v-32c-.01-8.84-7.17-16-16.01-16zm111.98-144c0-16.18 1.34-8.73-85.05-181.51-17.65-35.29-68.19-35.36-85.87 0-87.12 174.26-85.04 165.84-85.04 181.51H384c0 44.18 57.31 80 128 80s128-35.82 128-80h-.02zM440 288l72-144 72 144H440zm-269.07-37.51c-17.65-35.29-68.19-35.36-85.87 0C-2.06 424.75.02 416.33.02 432H0c0 44.18 57.31 80 128 80s128-35.82 128-80h-.02c0-16.18 1.34-8.73-85.05-181.51zM56 416l72-144 72 144H56z'/%3e%3c/svg%3e\" alt=\"Image\" width=\"50\" height=\"50\"></span></td>\n",
    "    <td><span class=\"fragment fade-down\" data-fragment-index=\"9\" ><img src=\"data:image/svg+xml,%3csvg xmlns='http://www.w3.org/2000/svg' viewBox='0 0 448 512'%3e%3cpath fill='%231fdbbb' d='M224.3 273l-136 136c-9.4 9.4-24.6 9.4-33.9 0l-22.6-22.6c-9.4-9.4-9.4-24.6 0-33.9l96.4-96.4-96.4-96.4c-9.4-9.4-9.4-24.6 0-33.9L54.3 103c9.4-9.4 24.6-9.4 33.9 0l136 136c9.5 9.4 9.5 24.6.1 34zm192-34l-136-136c-9.4-9.4-24.6-9.4-33.9 0l-22.6 22.6c-9.4 9.4-9.4 24.6 0 33.9l96.4 96.4-96.4 96.4c-9.4 9.4-9.4 24.6 0 33.9l22.6 22.6c9.4 9.4 24.6 9.4 33.9 0l136-136c9.4-9.2 9.4-24.4 0-33.8z'/%3e%3c/svg%3e\" alt=\"Image\" width=\"50\" height=\"50\"></span></td>\n",
    "    <td><span class=\"fragment fade-down\" data-fragment-index=\"9\" ><img src=\"data:image/svg+xml,%3csvg xmlns='http://www.w3.org/2000/svg' viewBox='0 0 512 512'%3e%3cpath fill='%231fdbbb' d='M488.6 250.2L392 214V105.5c0-15-9.3-28.4-23.4-33.7l-100-37.5c-8.1-3.1-17.1-3.1-25.3 0l-100 37.5c-14.1 5.3-23.4 18.7-23.4 33.7V214l-96.6 36.2C9.3 255.5 0 268.9 0 283.9V394c0 13.6 7.7 26.1 19.9 32.2l100 50c10.1 5.1 22.1 5.1 32.2 0l103.9-52 103.9 52c10.1 5.1 22.1 5.1 32.2 0l100-50c12.2-6.1 19.9-18.6 19.9-32.2V283.9c0-15-9.3-28.4-23.4-33.7zM358 214.8l-85 31.9v-68.2l85-37v73.3zM154 104.1l102-38.2 102 38.2v.6l-102 41.4-102-41.4v-.6zm84 291.1l-85 42.5v-79.1l85-38.8v75.4zm0-112l-102 41.4-102-41.4v-.6l102-38.2 102 38.2v.6zm240 112l-85 42.5v-79.1l85-38.8v75.4zm0-112l-102 41.4-102-41.4v-.6l102-38.2 102 38.2v.6z'/%3e%3c/svg%3e\" alt=\"Image\" width=\"50\" height=\"50\"></span></td>\n",
    "    <td><span class=\"fragment fade-down\" data-fragment-index=\"10\" ><img src=\"data:image/svg+xml,%3csvg xmlns='http://www.w3.org/2000/svg' viewBox='0 0 448 512'%3e%3cpath fill='%231fdbbb' d='M224.3 273l-136 136c-9.4 9.4-24.6 9.4-33.9 0l-22.6-22.6c-9.4-9.4-9.4-24.6 0-33.9l96.4-96.4-96.4-96.4c-9.4-9.4-9.4-24.6 0-33.9L54.3 103c9.4-9.4 24.6-9.4 33.9 0l136 136c9.5 9.4 9.5 24.6.1 34zm192-34l-136-136c-9.4-9.4-24.6-9.4-33.9 0l-22.6 22.6c-9.4 9.4-9.4 24.6 0 33.9l96.4 96.4-96.4 96.4c-9.4 9.4-9.4 24.6 0 33.9l22.6 22.6c9.4 9.4 24.6 9.4 33.9 0l136-136c9.4-9.2 9.4-24.4 0-33.8z'/%3e%3c/svg%3e\" alt=\"Image\" width=\"50\" height=\"50\"></span></td>\n",
    "    <td><span class=\"fragment fade-down\" data-fragment-index=\"10\" ><img src=\"data:image/svg+xml,%3csvg xmlns='http://www.w3.org/2000/svg' viewBox='0 0 512 512'%3e%3cpath fill='%231fdbbb' d='M304 192v32c0 6.6-5.4 12-12 12h-56v56c0 6.6-5.4 12-12 12h-32c-6.6 0-12-5.4-12-12v-56h-56c-6.6 0-12-5.4-12-12v-32c0-6.6 5.4-12 12-12h56v-56c0-6.6 5.4-12 12-12h32c6.6 0 12 5.4 12 12v56h56c6.6 0 12 5.4 12 12zm201 284.7L476.7 505c-9.4 9.4-24.6 9.4-33.9 0L343 405.3c-4.5-4.5-7-10.6-7-17V372c-35.3 27.6-79.7 44-128 44C93.1 416 0 322.9 0 208S93.1 0 208 0s208 93.1 208 208c0 48.3-16.4 92.7-44 128h16.3c6.4 0 12.5 2.5 17 7l99.7 99.7c9.3 9.4 9.3 24.6 0 34zM344 208c0-75.2-60.8-136-136-136S72 132.8 72 208s60.8 136 136 136 136-60.8 136-136z'/%3e%3c/svg%3e\" alt=\"Image\" width=\"50\" height=\"50\"></span></td>\n",
    "  </tr>\n",
    "  <tr>\n",
    "    <td></td>\n",
    "    <td></td>\n",
    "    <td><p class=\"fragment fade-down\" data-fragment-index=\"4\" ><span class=\"bkg_contrastR\">Non Time Dependent approche</span></p></td>\n",
    "    <td></td>\n",
    "    <td><p class=\"fragment fade-down\" data-fragment-index=\"5\" ><span class=\"bkg_contrastR\">Handling Missing Data</span></p></td>\n",
    "    <td></td>\n",
    "    <td><span class=\"fragment fade-down\" data-fragment-index=\"6\" ><img src=\"data:image/svg+xml,%3csvg xmlns='http://www.w3.org/2000/svg' viewBox='0 0 320 512'%3e%3cpath fill='%231fdbbb' d='M177 159.7l136 136c9.4 9.4 9.4 24.6 0 33.9l-22.6 22.6c-9.4 9.4-24.6 9.4-33.9 0L160 255.9l-96.4 96.4c-9.4 9.4-24.6 9.4-33.9 0L7 329.7c-9.4-9.4-9.4-24.6 0-33.9l136-136c9.4-9.5 24.6-9.5 34-.1z'/%3e%3c/svg%3e\" alt=\"Image\" width=\"70\" height=\"70\"></span></td>\n",
    "    <td></td>\n",
    "    <td></td>\n",
    "    <td></td>\n",
    "    <td></td>\n",
    "    <td></td>\n",
    "    <td></td>\n",
    "    <td></td>\n",
    "    <td></td>\n",
    "    <td></td>\n",
    "  </tr>\n",
    "  <tr>\n",
    "    <td></td>\n",
    "    <td></td>\n",
    "    <td><span class=\"fragment fade-down\" data-fragment-index=\"4\" ><img src=\"data:image/svg+xml,%3csvg xmlns='http://www.w3.org/2000/svg' viewBox='0 0 512 512'%3e%3cpath fill='%231fdbbb' d='M256%2c8C119%2c8%2c8%2c119%2c8%2c256S119%2c504%2c256%2c504%2c504%2c393%2c504%2c256%2c393%2c8%2c256%2c8Zm92.49%2c313h0l-20%2c25a16%2c16%2c0%2c0%2c1-22.49%2c2.5h0l-67-49.72a40%2c40%2c0%2c0%2c1-15-31.23V112a16%2c16%2c0%2c0%2c1%2c16-16h32a16%2c16%2c0%2c0%2c1%2c16%2c16V256l58%2c42.5A16%2c16%2c0%2c0%2c1%2c348.49%2c321Z'/%3e%3c/svg%3e\" alt=\"Image\" width=\"50\" height=\"50\"></span></td>\n",
    "    <td><span class=\"fragment fade-down\" data-fragment-index=\"5\" ><img src=\"data:image/svg+xml,%3csvg xmlns='http://www.w3.org/2000/svg' viewBox='0 0 448 512'%3e%3cpath fill='%231fdbbb' d='M224.3 273l-136 136c-9.4 9.4-24.6 9.4-33.9 0l-22.6-22.6c-9.4-9.4-9.4-24.6 0-33.9l96.4-96.4-96.4-96.4c-9.4-9.4-9.4-24.6 0-33.9L54.3 103c9.4-9.4 24.6-9.4 33.9 0l136 136c9.5 9.4 9.5 24.6.1 34zm192-34l-136-136c-9.4-9.4-24.6-9.4-33.9 0l-22.6 22.6c-9.4 9.4-9.4 24.6 0 33.9l96.4 96.4-96.4 96.4c-9.4 9.4-9.4 24.6 0 33.9l22.6 22.6c9.4 9.4 24.6 9.4 33.9 0l136-136c9.4-9.2 9.4-24.4 0-33.8z'/%3e%3c/svg%3e\" alt=\"Image\" width=\"50\" height=\"50\"></span></td>\n",
    "    <td><span class=\"fragment fade-down\" data-fragment-index=\"5\" ><img src=\"data:image/svg+xml,%3csvg xmlns='http://www.w3.org/2000/svg' viewBox='0 0 512 512'%3e%3cpath fill='%231fdbbb' d='M256 8C119 8 8 119 8 256s111 248 248 248 248-111 248-248S393 8 256 8zm121.6 313.1c4.7 4.7 4.7 12.3 0 17L338 377.6c-4.7 4.7-12.3 4.7-17 0L256 312l-65.1 65.6c-4.7 4.7-12.3 4.7-17 0L134.4 338c-4.7-4.7-4.7-12.3 0-17l65.6-65-65.6-65.1c-4.7-4.7-4.7-12.3 0-17l39.6-39.6c4.7-4.7 12.3-4.7 17 0l65 65.7 65.1-65.6c4.7-4.7 12.3-4.7 17 0l39.6 39.6c4.7 4.7 4.7 12.3 0 17L312 256l65.6 65.1z'/%3e%3c/svg%3e\" alt=\"Image\" width=\"50\" height=\"50\"></span></td>\n",
    "    <td></td>\n",
    "    <td></td>\n",
    "    <td></td>\n",
    "    <td></td>\n",
    "    <td></td>\n",
    "    <td></td>\n",
    "    <td></td>\n",
    "    <td></td>\n",
    "    <td></td>\n",
    "    <td></td>\n",
    "    <td></td>\n",
    "  </tr>\n",
    "  <tr>\n",
    "    <td rowspan=\"2\"><p class=\"fragment fade-down\" data-fragment-index=\"2\" ><span class=\"bkg_contrastR\">Buziness understanding</span></p></td>\n",
    "    <td><span class=\"fragment fade-down\" data-fragment-index=\"3\" ><img src=\"data:image/svg+xml,%3csvg xmlns='http://www.w3.org/2000/svg' viewBox='0 0 320 512'%3e%3cpath fill='%231fdbbb' d='M177 159.7l136 136c9.4 9.4 9.4 24.6 0 33.9l-22.6 22.6c-9.4 9.4-24.6 9.4-33.9 0L160 255.9l-96.4 96.4c-9.4 9.4-24.6 9.4-33.9 0L7 329.7c-9.4-9.4-9.4-24.6 0-33.9l136-136c9.4-9.5 24.6-9.5 34-.1z'/%3e%3c/svg%3e\" alt=\"Image\" width=\"70\" height=\"70\"></span></td>\n",
    "    <td></td>\n",
    "    <td></td>\n",
    "    <td></td>\n",
    "    <td></td>\n",
    "    <td><span class=\"fragment fade-down\" data-fragment-index=\"11\" ><img src=\"data:image/svg+xml,%3csvg xmlns='http://www.w3.org/2000/svg' viewBox='0 0 320 512'%3e%3cpath fill='%231fdbbb' d='M143 352.3L7 216.3c-9.4-9.4-9.4-24.6 0-33.9l22.6-22.6c9.4-9.4 24.6-9.4 33.9 0l96.4 96.4 96.4-96.4c9.4-9.4 24.6-9.4 33.9 0l22.6 22.6c9.4 9.4 9.4 24.6 0 33.9l-136 136c-9.2 9.4-24.4 9.4-33.8 0z'/%3e%3c/svg%3e\" alt=\"Image\" width=\"70\" height=\"70\"></span></td>\n",
    "    <td></td>\n",
    "    <td></td>\n",
    "    <td></td>\n",
    "    <td></td>\n",
    "    <td></td>\n",
    "    <td></td>\n",
    "    <td></td>\n",
    "    <td></td>\n",
    "    <td></td>\n",
    "  </tr>\n",
    "  <tr>\n",
    "    <td><span class=\"fragment fade-down\" data-fragment-index=\"17\" ><img src=\"data:image/svg+xml,%3csvg xmlns='http://www.w3.org/2000/svg' viewBox='0 0 320 512'%3e%3cpath fill='%231fdbbb' d='M143 352.3L7 216.3c-9.4-9.4-9.4-24.6 0-33.9l22.6-22.6c9.4-9.4 24.6-9.4 33.9 0l96.4 96.4 96.4-96.4c9.4-9.4 24.6-9.4 33.9 0l22.6 22.6c9.4 9.4 9.4 24.6 0 33.9l-136 136c-9.2 9.4-24.4 9.4-33.8 0z'/%3e%3c/svg%3e\" alt=\"Image\" width=\"70\" height=\"70\"></span></td>\n",
    "    <td></td>\n",
    "    <td></td>\n",
    "    <td></td>\n",
    "    <td></td>\n",
    "    <td></td>\n",
    "    <td><p class=\"fragment fade-down\" data-fragment-index=\"12\" ><span class=\"bkg_contrastB\">Imputing Data</span></p></td>\n",
    "    <td></td>\n",
    "    <td><p class=\"fragment fade-down\" data-fragment-index=\"13\" ><span class=\"bkg_contrastB\">Feature Importance</span></p></td>\n",
    "    <td></td>\n",
    "    <td><p class=\"fragment fade-down\" data-fragment-index=\"14\" ><span class=\"bkg_contrastB\">Handling Data imbalance</span></p></td>\n",
    "    <td></td>\n",
    "    <td><p class=\"fragment fade-down\" data-fragment-index=\"15\" ><span class=\"bkg_contrastB\">Test Six Classifier Model</span></p></td>\n",
    "    <td></td>\n",
    "    <td><p class=\"fragment fade-down\" data-fragment-index=\"16\" ><span class=\"bkg_contrastB\">Evaluation</span></p></td>\n",
    "  </tr>\n",
    "  <tr>\n",
    "    <td></td>\n",
    "    <td></td>\n",
    "    <td><p class=\"fragment fade-down\" data-fragment-index=\"17\" ><span class=\"bkg_contrastR\">Time Series Analysis</span></p></td>\n",
    "    <td></td>\n",
    "    <td></td>\n",
    "    <td></td>\n",
    "    <td></td>\n",
    "    <td><span class=\"fragment fade-down\" data-fragment-index=\"12\" ><img src=\"data:image/svg+xml,%3csvg xmlns='http://www.w3.org/2000/svg' viewBox='0 0 448 512'%3e%3cpath fill='%231fdbbb' d='M288 136V0H88C74.7 0 64 10.7 64 24v232H8c-4.4 0-8 3.6-8 8v16c0 4.4 3.6 8 8 8h140.9c3 0 5.8 1.7 7.2 4.4l19.9 39.8 56.8-113.7c2.9-5.9 11.4-5.9 14.3 0l34.7 69.5H352c8.8 0 16 7.2 16 16s-7.2 16-16 16h-89.9L240 275.8l-56.8 113.7c-2.9 5.9-11.4 5.9-14.3 0L134.1 320H64v168c0 13.3 10.7 24 24 24h336c13.3 0 24-10.7 24-24V160H312c-13.2 0-24-10.8-24-24zm153-31L343.1 7c-4.5-4.5-10.6-7-17-7H320v128h128v-6.1c0-6.3-2.5-12.4-7-16.9z'/%3e%3c/svg%3e\" alt=\"Image\" width=\"50\" height=\"50\"></span></td>\n",
    "    <td><span class=\"fragment fade-down\" data-fragment-index=\"13\" ><img src=\"data:image/svg+xml,%3csvg xmlns='http://www.w3.org/2000/svg' viewBox='0 0 448 512'%3e%3cpath fill='%231fdbbb' d='M224.3 273l-136 136c-9.4 9.4-24.6 9.4-33.9 0l-22.6-22.6c-9.4-9.4-9.4-24.6 0-33.9l96.4-96.4-96.4-96.4c-9.4-9.4-9.4-24.6 0-33.9L54.3 103c9.4-9.4 24.6-9.4 33.9 0l136 136c9.5 9.4 9.5 24.6.1 34zm192-34l-136-136c-9.4-9.4-24.6-9.4-33.9 0l-22.6 22.6c-9.4 9.4-9.4 24.6 0 33.9l96.4 96.4-96.4 96.4c-9.4 9.4-9.4 24.6 0 33.9l22.6 22.6c9.4 9.4 24.6 9.4 33.9 0l136-136c9.4-9.2 9.4-24.4 0-33.8z'/%3e%3c/svg%3e\" alt=\"Image\" width=\"50\" height=\"50\"></span></td>\n",
    "    <td><span class=\"fragment fade-down\" data-fragment-index=\"13\" ><img src=\"data:image/svg+xml,%3csvg xmlns='http://www.w3.org/2000/svg' viewBox='0 0 512 512'%3e%3cpath fill='%231fdbbb' d='M109.46 244.04l134.58-134.56-44.12-44.12-61.68 61.68a7.919 7.919 0 0 1-11.21 0l-11.21-11.21c-3.1-3.1-3.1-8.12 0-11.21l61.68-61.68-33.64-33.65C131.47-3.1 111.39-3.1 99 9.29L9.29 99c-12.38 12.39-12.39 32.47 0 44.86l100.17 100.18zm388.47-116.8c18.76-18.76 18.75-49.17 0-67.93l-45.25-45.25c-18.76-18.76-49.18-18.76-67.95 0l-46.02 46.01 113.2 113.2 46.02-46.03zM316.08 82.71l-297 296.96L.32 487.11c-2.53 14.49 10.09 27.11 24.59 24.56l107.45-18.84L429.28 195.9 316.08 82.71zm186.63 285.43l-33.64-33.64-61.68 61.68c-3.1 3.1-8.12 3.1-11.21 0l-11.21-11.21c-3.09-3.1-3.09-8.12 0-11.21l61.68-61.68-44.14-44.14L267.93 402.5l100.21 100.2c12.39 12.39 32.47 12.39 44.86 0l89.71-89.7c12.39-12.39 12.39-32.47 0-44.86z'/%3e%3c/svg%3e\" alt=\"Image\" width=\"50\" height=\"50\"></span></td>\n",
    "    <td><span class=\"fragment fade-down\" data-fragment-index=\"14\" ><img src=\"data:image/svg+xml,%3csvg xmlns='http://www.w3.org/2000/svg' viewBox='0 0 448 512'%3e%3cpath fill='%231fdbbb' d='M224.3 273l-136 136c-9.4 9.4-24.6 9.4-33.9 0l-22.6-22.6c-9.4-9.4-9.4-24.6 0-33.9l96.4-96.4-96.4-96.4c-9.4-9.4-9.4-24.6 0-33.9L54.3 103c9.4-9.4 24.6-9.4 33.9 0l136 136c9.5 9.4 9.5 24.6.1 34zm192-34l-136-136c-9.4-9.4-24.6-9.4-33.9 0l-22.6 22.6c-9.4 9.4-9.4 24.6 0 33.9l96.4 96.4-96.4 96.4c-9.4 9.4-9.4 24.6 0 33.9l22.6 22.6c9.4 9.4 24.6 9.4 33.9 0l136-136c9.4-9.2 9.4-24.4 0-33.8z'/%3e%3c/svg%3e\" alt=\"Image\" width=\"50\" height=\"50\"></span></td>\n",
    "    <td><span class=\"fragment fade-down\" data-fragment-index=\"14\" ><img src=\"data:image/svg+xml,%3csvg xmlns='http://www.w3.org/2000/svg' viewBox='0 0 640 512'%3e%3cpath fill='%231fdbbb' d='M528 448H352V153.25c20.42-8.94 36.1-26.22 43.38-47.47l132-44.26c8.38-2.81 12.89-11.88 10.08-20.26l-10.17-30.34C524.48 2.54 515.41-1.97 507.03.84L389.11 40.37C375.3 16.36 349.69 0 320 0c-44.18 0-80 35.82-80 80 0 3.43.59 6.71 1.01 10.03l-128.39 43.05c-8.38 2.81-12.89 11.88-10.08 20.26l10.17 30.34c2.81 8.38 11.88 12.89 20.26 10.08l142.05-47.63c4.07 2.77 8.43 5.12 12.99 7.12V496c0 8.84 7.16 16 16 16h224c8.84 0 16-7.16 16-16v-32c-.01-8.84-7.17-16-16.01-16zm111.98-144c0-16.18 1.34-8.73-85.05-181.51-17.65-35.29-68.19-35.36-85.87 0-87.12 174.26-85.04 165.84-85.04 181.51H384c0 44.18 57.31 80 128 80s128-35.82 128-80h-.02zM440 288l72-144 72 144H440zm-269.07-37.51c-17.65-35.29-68.19-35.36-85.87 0C-2.06 424.75.02 416.33.02 432H0c0 44.18 57.31 80 128 80s128-35.82 128-80h-.02c0-16.18 1.34-8.73-85.05-181.51zM56 416l72-144 72 144H56z'/%3e%3c/svg%3e\" alt=\"Image\" width=\"50\" height=\"50\"></span></td>\n",
    "    <td><span class=\"fragment fade-down\" data-fragment-index=\"15\" ><img src=\"data:image/svg+xml,%3csvg xmlns='http://www.w3.org/2000/svg' viewBox='0 0 448 512'%3e%3cpath fill='%231fdbbb' d='M224.3 273l-136 136c-9.4 9.4-24.6 9.4-33.9 0l-22.6-22.6c-9.4-9.4-9.4-24.6 0-33.9l96.4-96.4-96.4-96.4c-9.4-9.4-9.4-24.6 0-33.9L54.3 103c9.4-9.4 24.6-9.4 33.9 0l136 136c9.5 9.4 9.5 24.6.1 34zm192-34l-136-136c-9.4-9.4-24.6-9.4-33.9 0l-22.6 22.6c-9.4 9.4-9.4 24.6 0 33.9l96.4 96.4-96.4 96.4c-9.4 9.4-9.4 24.6 0 33.9l22.6 22.6c9.4 9.4 24.6 9.4 33.9 0l136-136c9.4-9.2 9.4-24.4 0-33.8z'/%3e%3c/svg%3e\" alt=\"Image\" width=\"50\" height=\"50\"></span></td>\n",
    "    <td><span class=\"fragment fade-down\" data-fragment-index=\"15\" ><img src=\"data:image/svg+xml,%3csvg xmlns='http://www.w3.org/2000/svg' viewBox='0 0 448 512'%3e%3cpath fill='%231fdbbb' d='M96 288H32c-17.67 0-32 14.33-32 32v64c0 17.67 14.33 32 32 32h64c17.67 0 32-14.33 32-32v-64c0-17.67-14.33-32-32-32zm160 0h-64c-17.67 0-32 14.33-32 32v64c0 17.67 14.33 32 32 32h64c17.67 0 32-14.33 32-32v-64c0-17.67-14.33-32-32-32zm160 0h-64c-17.67 0-32 14.33-32 32v64c0 17.67 14.33 32 32 32h64c17.67 0 32-14.33 32-32v-64c0-17.67-14.33-32-32-32zM96 96H32c-17.67 0-32 14.33-32 32v64c0 17.67 14.33 32 32 32h64c17.67 0 32-14.33 32-32v-64c0-17.67-14.33-32-32-32zm160 0h-64c-17.67 0-32 14.33-32 32v64c0 17.67 14.33 32 32 32h64c17.67 0 32-14.33 32-32v-64c0-17.67-14.33-32-32-32zm160 0h-64c-17.67 0-32 14.33-32 32v64c0 17.67 14.33 32 32 32h64c17.67 0 32-14.33 32-32v-64c0-17.67-14.33-32-32-32z'/%3e%3c/svg%3e\" alt=\"Image\" width=\"50\" height=\"50\"></td>\n",
    "    <td><span class=\"fragment fade-down\" data-fragment-index=\"16\" ><img src=\"data:image/svg+xml,%3csvg xmlns='http://www.w3.org/2000/svg' viewBox='0 0 448 512'%3e%3cpath fill='%231fdbbb' d='M224.3 273l-136 136c-9.4 9.4-24.6 9.4-33.9 0l-22.6-22.6c-9.4-9.4-9.4-24.6 0-33.9l96.4-96.4-96.4-96.4c-9.4-9.4-9.4-24.6 0-33.9L54.3 103c9.4-9.4 24.6-9.4 33.9 0l136 136c9.5 9.4 9.5 24.6.1 34zm192-34l-136-136c-9.4-9.4-24.6-9.4-33.9 0l-22.6 22.6c-9.4 9.4-9.4 24.6 0 33.9l96.4 96.4-96.4 96.4c-9.4 9.4-9.4 24.6 0 33.9l22.6 22.6c9.4 9.4 24.6 9.4 33.9 0l136-136c9.4-9.2 9.4-24.4 0-33.8z'/%3e%3c/svg%3e\" alt=\"Image\" width=\"50\" height=\"50\"></span></td>\n",
    "    <td><span class=\"fragment fade-down\" data-fragment-index=\"16\" ><img src=\"data:image/svg+xml,%3csvg xmlns='http://www.w3.org/2000/svg' viewBox='0 0 384 512'%3e%3cpath fill='%231fdbbb' d='M97.12 362.63c-8.69-8.69-4.16-6.24-25.12-11.85-9.51-2.55-17.87-7.45-25.43-13.32L1.2 448.7c-4.39 10.77 3.81 22.47 15.43 22.03l52.69-2.01L105.56 507c8 8.44 22.04 5.81 26.43-4.96l52.05-127.62c-10.84 6.04-22.87 9.58-35.31 9.58-19.5 0-37.82-7.59-51.61-21.37zM382.8 448.7l-45.37-111.24c-7.56 5.88-15.92 10.77-25.43 13.32-21.07 5.64-16.45 3.18-25.12 11.85-13.79 13.78-32.12 21.37-51.62 21.37-12.44 0-24.47-3.55-35.31-9.58L252 502.04c4.39 10.77 18.44 13.4 26.43 4.96l36.25-38.28 52.69 2.01c11.62.44 19.82-11.27 15.43-22.03zM263 340c15.28-15.55 17.03-14.21 38.79-20.14 13.89-3.79 24.75-14.84 28.47-28.98 7.48-28.4 5.54-24.97 25.95-45.75 10.17-10.35 14.14-25.44 10.42-39.58-7.47-28.38-7.48-24.42 0-52.83 3.72-14.14-.25-29.23-10.42-39.58-20.41-20.78-18.47-17.36-25.95-45.75-3.72-14.14-14.58-25.19-28.47-28.98-27.88-7.61-24.52-5.62-44.95-26.41-10.17-10.35-25-14.4-38.89-10.61-27.87 7.6-23.98 7.61-51.9 0-13.89-3.79-28.72.25-38.89 10.61-20.41 20.78-17.05 18.8-44.94 26.41-13.89 3.79-24.75 14.84-28.47 28.98-7.47 28.39-5.54 24.97-25.95 45.75-10.17 10.35-14.15 25.44-10.42 39.58 7.47 28.36 7.48 24.4 0 52.82-3.72 14.14.25 29.23 10.42 39.59 20.41 20.78 18.47 17.35 25.95 45.75 3.72 14.14 14.58 25.19 28.47 28.98C104.6 325.96 106.27 325 121 340c13.23 13.47 33.84 15.88 49.74 5.82a39.676 39.676 0 0 1 42.53 0c15.89 10.06 36.5 7.65 49.73-5.82zM97.66 175.96c0-53.03 42.24-96.02 94.34-96.02s94.34 42.99 94.34 96.02-42.24 96.02-94.34 96.02-94.34-42.99-94.34-96.02z'/%3e%3c/svg%3e\" alt=\"Image\" width=\"50\" height=\"50\"></span></td>\n",
    "  </tr>\n",
    "  <tr>\n",
    "    <td></td>\n",
    "    <td></td>\n",
    "    <td><span class=\"fragment fade-down\" data-fragment-index=\"17\" ><img src=\"data:image/svg+xml,%3csvg xmlns='http://www.w3.org/2000/svg' viewBox='0 0 512 512'%3e%3cpath fill='%231fdbbb' d='M256%2c8C119%2c8%2c8%2c119%2c8%2c256S119%2c504%2c256%2c504%2c504%2c393%2c504%2c256%2c393%2c8%2c256%2c8Zm92.49%2c313h0l-20%2c25a16%2c16%2c0%2c0%2c1-22.49%2c2.5h0l-67-49.72a40%2c40%2c0%2c0%2c1-15-31.23V112a16%2c16%2c0%2c0%2c1%2c16-16h32a16%2c16%2c0%2c0%2c1%2c16%2c16V256l58%2c42.5A16%2c16%2c0%2c0%2c1%2c348.49%2c321Z'/%3e%3c/svg%3e\" alt=\"Image\" width=\"50\" height=\"50\"></span></td>\n",
    "    <td></td>\n",
    "    <td></td>\n",
    "    <td></td>\n",
    "    <td></td>\n",
    "    <td></td>\n",
    "    <td></td>\n",
    "    <td></td>\n",
    "    <td></td>\n",
    "    <td></td>\n",
    "    <td></td>\n",
    "    <td></td>\n",
    "    <td></td>\n",
    "    <td></td>\n",
    "  </tr>\n",
    "</tbody>\n",
    "</table>\n",
    "\n"
   ]
  },
  {
   "cell_type": "markdown",
   "metadata": {
    "slideshow": {
     "slide_type": "subslide"
    }
   },
   "source": [
    "<h2 ><p class=\"fragment fade-up\" data-fragment-index=\"1\"><span class=\"presentation_title\">4.1 Using Decision Tree & Xgboost</span></p></h2>\n",
    "<table class=\"kms\" style=\"border: none;\">\n",
    "<thead>\n",
    "  <tr>\n",
    "    <th rowspan=\"2\"><p class=\"fragment fade-down\" data-fragment-index=\"2\" >Buziness and Data<br>understanding</p></th>\n",
    "    <th><p class=\"fragment fade-down\" data-fragment-index=\"3\" ><img src=\"data:image/svg+xml,%3csvg xmlns='http://www.w3.org/2000/svg' viewBox='0 0 448 512'%3e%3cpath fill='%23711adb' d='M224.3 273l-136 136c-9.4 9.4-24.6 9.4-33.9 0l-22.6-22.6c-9.4-9.4-9.4-24.6 0-33.9l96.4-96.4-96.4-96.4c-9.4-9.4-9.4-24.6 0-33.9L54.3 103c9.4-9.4 24.6-9.4 33.9 0l136 136c9.5 9.4 9.5 24.6.1 34zm192-34l-136-136c-9.4-9.4-24.6-9.4-33.9 0l-22.6 22.6c-9.4 9.4-9.4 24.6 0 33.9l96.4 96.4-96.4 96.4c-9.4 9.4-9.4 24.6 0 33.9l22.6 22.6c9.4 9.4 24.6 9.4 33.9 0l136-136c9.4-9.2 9.4-24.4 0-33.8z'/%3e%3c/svg%3e\" alt=\"Image\" width=\"50\" height=\"50\"></p></th>\n",
    "      <th><p class=\"fragment fade-down\" data-fragment-index=\"4\" >Concatenation</p></th>\n",
    "    <th><p class=\"fragment fade-down\" data-fragment-index=\"5\" ><img src=\"data:image/svg+xml,%3csvg xmlns='http://www.w3.org/2000/svg' viewBox='0 0 448 512'%3e%3cpath fill='%23711adb' d='M224.3 273l-136 136c-9.4 9.4-24.6 9.4-33.9 0l-22.6-22.6c-9.4-9.4-9.4-24.6 0-33.9l96.4-96.4-96.4-96.4c-9.4-9.4-9.4-24.6 0-33.9L54.3 103c9.4-9.4 24.6-9.4 33.9 0l136 136c9.5 9.4 9.5 24.6.1 34zm192-34l-136-136c-9.4-9.4-24.6-9.4-33.9 0l-22.6 22.6c-9.4 9.4-9.4 24.6 0 33.9l96.4 96.4-96.4 96.4c-9.4 9.4-9.4 24.6 0 33.9l22.6 22.6c9.4 9.4 24.6 9.4 33.9 0l136-136c9.4-9.2 9.4-24.4 0-33.8z'/%3e%3c/svg%3e\" alt=\"Image\" width=\"50\" height=\"50\"></p></th>\n",
    "    <th><p class=\"fragment fade-down\" data-fragment-index=\"6\" >Dropping Missing Value</p></th>\n",
    "    <th><p class=\"fragment fade-down\" data-fragment-index=\"7\" ><img src=\"data:image/svg+xml,%3csvg xmlns='http://www.w3.org/2000/svg' viewBox='0 0 448 512'%3e%3cpath fill='%23711adb' d='M224.3 273l-136 136c-9.4 9.4-24.6 9.4-33.9 0l-22.6-22.6c-9.4-9.4-9.4-24.6 0-33.9l96.4-96.4-96.4-96.4c-9.4-9.4-9.4-24.6 0-33.9L54.3 103c9.4-9.4 24.6-9.4 33.9 0l136 136c9.5 9.4 9.5 24.6.1 34zm192-34l-136-136c-9.4-9.4-24.6-9.4-33.9 0l-22.6 22.6c-9.4 9.4-9.4 24.6 0 33.9l96.4 96.4-96.4 96.4c-9.4 9.4-9.4 24.6 0 33.9l22.6 22.6c9.4 9.4 24.6 9.4 33.9 0l136-136c9.4-9.2 9.4-24.4 0-33.8z'/%3e%3c/svg%3e\" alt=\"Image\" width=\"50\" height=\"50\"></p></th>\n",
    "      <th><p class=\"fragment fade-down\" data-fragment-index=\"8\" >Feature Engeneering</p></th>\n",
    "    <th><p class=\"fragment fade-down\" data-fragment-index=\"9\" ><img src=\"data:image/svg+xml,%3csvg xmlns='http://www.w3.org/2000/svg' viewBox='0 0 448 512'%3e%3cpath fill='%23711adb' d='M224.3 273l-136 136c-9.4 9.4-24.6 9.4-33.9 0l-22.6-22.6c-9.4-9.4-9.4-24.6 0-33.9l96.4-96.4-96.4-96.4c-9.4-9.4-9.4-24.6 0-33.9L54.3 103c9.4-9.4 24.6-9.4 33.9 0l136 136c9.5 9.4 9.5 24.6.1 34zm192-34l-136-136c-9.4-9.4-24.6-9.4-33.9 0l-22.6 22.6c-9.4 9.4-9.4 24.6 0 33.9l96.4 96.4-96.4 96.4c-9.4 9.4-9.4 24.6 0 33.9l22.6 22.6c9.4 9.4 24.6 9.4 33.9 0l136-136c9.4-9.2 9.4-24.4 0-33.8z'/%3e%3c/svg%3e\" alt=\"Image\" width=\"50\" height=\"50\"></p></th>\n",
    "      <th><p class=\"fragment fade-down\" data-fragment-index=\"10\" >Handling Data imbalance</p></th>\n",
    "    <th><p class=\"fragment fade-down\" data-fragment-index=\"11\" ><img src=\"data:image/svg+xml,%3csvg xmlns='http://www.w3.org/2000/svg' viewBox='0 0 448 512'%3e%3cpath fill='%23711adb' d='M224.3 273l-136 136c-9.4 9.4-24.6 9.4-33.9 0l-22.6-22.6c-9.4-9.4-9.4-24.6 0-33.9l96.4-96.4-96.4-96.4c-9.4-9.4-9.4-24.6 0-33.9L54.3 103c9.4-9.4 24.6-9.4 33.9 0l136 136c9.5 9.4 9.5 24.6.1 34zm192-34l-136-136c-9.4-9.4-24.6-9.4-33.9 0l-22.6 22.6c-9.4 9.4-9.4 24.6 0 33.9l96.4 96.4-96.4 96.4c-9.4 9.4-9.4 24.6 0 33.9l22.6 22.6c9.4 9.4 24.6 9.4 33.9 0l136-136c9.4-9.2 9.4-24.4 0-33.8z'/%3e%3c/svg%3e\" alt=\"Image\" width=\"50\" height=\"50\"></p></th>\n",
    "      <th><p class=\"fragment fade-down\" data-fragment-index=\"12\" >Modeling</p></th>\n",
    "    <th><p class=\"fragment fade-down\" data-fragment-index=\"13\" ><img src=\"data:image/svg+xml,%3csvg xmlns='http://www.w3.org/2000/svg' viewBox='0 0 448 512'%3e%3cpath fill='%23711adb' d='M224.3 273l-136 136c-9.4 9.4-24.6 9.4-33.9 0l-22.6-22.6c-9.4-9.4-9.4-24.6 0-33.9l96.4-96.4-96.4-96.4c-9.4-9.4-9.4-24.6 0-33.9L54.3 103c9.4-9.4 24.6-9.4 33.9 0l136 136c9.5 9.4 9.5 24.6.1 34zm192-34l-136-136c-9.4-9.4-24.6-9.4-33.9 0l-22.6 22.6c-9.4 9.4-9.4 24.6 0 33.9l96.4 96.4-96.4 96.4c-9.4 9.4-9.4 24.6 0 33.9l22.6 22.6c9.4 9.4 24.6 9.4 33.9 0l136-136c9.4-9.2 9.4-24.4 0-33.8z'/%3e%3c/svg%3e\" alt=\"Image\" width=\"50\" height=\"50\"></p></th>\n",
    "      <th><p class=\"fragment fade-down\" data-fragment-index=\"14\" >Evaluation</p></th>\n",
    "  </tr>\n",
    "  <tr>\n",
    "    <th></th>\n",
    "    <th><p class=\"fragment fade-down\" data-fragment-index=\"4\" ><img src=\"data:image/svg+xml,%3csvg xmlns='http://www.w3.org/2000/svg' viewBox='0 0 512 512'%3e%3cpath fill='%23711adb' d='M80 368H16a16 16 0 0 0-16 16v64a16 16 0 0 0 16 16h64a16 16 0 0 0 16-16v-64a16 16 0 0 0-16-16zm0-320H16A16 16 0 0 0 0 64v64a16 16 0 0 0 16 16h64a16 16 0 0 0 16-16V64a16 16 0 0 0-16-16zm0 160H16a16 16 0 0 0-16 16v64a16 16 0 0 0 16 16h64a16 16 0 0 0 16-16v-64a16 16 0 0 0-16-16zm416 176H176a16 16 0 0 0-16 16v32a16 16 0 0 0 16 16h320a16 16 0 0 0 16-16v-32a16 16 0 0 0-16-16zm0-320H176a16 16 0 0 0-16 16v32a16 16 0 0 0 16 16h320a16 16 0 0 0 16-16V80a16 16 0 0 0-16-16zm0 160H176a16 16 0 0 0-16 16v32a16 16 0 0 0 16 16h320a16 16 0 0 0 16-16v-32a16 16 0 0 0-16-16z'/%3e%3c/svg%3e\" width=\"50\" height=\"50\"></p></th>\n",
    "    <th></th>\n",
    "    <th><p class=\"fragment fade-down\" data-fragment-index=\"6\" ><img src=\"data:image/svg+xml,%3csvg xmlns='http://www.w3.org/2000/svg' viewBox='0 0 352 512'%3e%3cpath fill='%23711adb' d='M242.72 256l100.07-100.07c12.28-12.28 12.28-32.19 0-44.48l-22.24-22.24c-12.28-12.28-32.19-12.28-44.48 0L176 189.28 75.93 89.21c-12.28-12.28-32.19-12.28-44.48 0L9.21 111.45c-12.28 12.28-12.28 32.19 0 44.48L109.28 256 9.21 356.07c-12.28 12.28-12.28 32.19 0 44.48l22.24 22.24c12.28 12.28 32.2 12.28 44.48 0L176 322.72l100.07 100.07c12.28 12.28 32.2 12.28 44.48 0l22.24-22.24c12.28-12.28 12.28-32.19 0-44.48L242.72 256z'/%3e%3c/svg%3e\" alt=\"Image\" width=\"50\" height=\"50\"></p></th>\n",
    "    <th></th>\n",
    "    <th><p class=\"fragment fade-down\" data-fragment-index=\"8\" ><img src=\"data:image/svg+xml,%3csvg xmlns='http://www.w3.org/2000/svg' viewBox='0 0 576 512'%3e%3cpath fill='%23711adb' d='M402.6 83.2l90.2 90.2c3.8 3.8 3.8 10 0 13.8L274.4 405.6l-92.8 10.3c-12.4 1.4-22.9-9.1-21.5-21.5l10.3-92.8L388.8 83.2c3.8-3.8 10-3.8 13.8 0zm162-22.9l-48.8-48.8c-15.2-15.2-39.9-15.2-55.2 0l-35.4 35.4c-3.8 3.8-3.8 10 0 13.8l90.2 90.2c3.8 3.8 10 3.8 13.8 0l35.4-35.4c15.2-15.3 15.2-40 0-55.2zM384 346.2V448H64V128h229.8c3.2 0 6.2-1.3 8.5-3.5l40-40c7.6-7.6 2.2-20.5-8.5-20.5H48C21.5 64 0 85.5 0 112v352c0 26.5 21.5 48 48 48h352c26.5 0 48-21.5 48-48V306.2c0-10.7-12.9-16-20.5-8.5l-40 40c-2.2 2.3-3.5 5.3-3.5 8.5z'/%3e%3c/svg%3e\" alt=\"Image\" width=\"50\" height=\"50\"></p></th>\n",
    "    <th></th>\n",
    "    <th><p class=\"fragment fade-down\" data-fragment-index=\"10\" ><img src=\"data:image/svg+xml,%3csvg xmlns='http://www.w3.org/2000/svg' viewBox='0 0 640 512'%3e%3cpath fill='%23711adb' d='M528 448H352V153.25c20.42-8.94 36.1-26.22 43.38-47.47l132-44.26c8.38-2.81 12.89-11.88 10.08-20.26l-10.17-30.34C524.48 2.54 515.41-1.97 507.03.84L389.11 40.37C375.3 16.36 349.69 0 320 0c-44.18 0-80 35.82-80 80 0 3.43.59 6.71 1.01 10.03l-128.39 43.05c-8.38 2.81-12.89 11.88-10.08 20.26l10.17 30.34c2.81 8.38 11.88 12.89 20.26 10.08l142.05-47.63c4.07 2.77 8.43 5.12 12.99 7.12V496c0 8.84 7.16 16 16 16h224c8.84 0 16-7.16 16-16v-32c-.01-8.84-7.17-16-16.01-16zm111.98-144c0-16.18 1.34-8.73-85.05-181.51-17.65-35.29-68.19-35.36-85.87 0-87.12 174.26-85.04 165.84-85.04 181.51H384c0 44.18 57.31 80 128 80s128-35.82 128-80h-.02zM440 288l72-144 72 144H440zm-269.07-37.51c-17.65-35.29-68.19-35.36-85.87 0C-2.06 424.75.02 416.33.02 432H0c0 44.18 57.31 80 128 80s128-35.82 128-80h-.02c0-16.18 1.34-8.73-85.05-181.51zM56 416l72-144 72 144H56z'/%3e%3c/svg%3e\" alt=\"Image\" width=\"50\" height=\"50\"></p></th>\n",
    "    <th></th>\n",
    "    <th><p class=\"fragment fade-down\" data-fragment-index=\"12\" ><img src=\"data:image/svg+xml,%3csvg xmlns='http://www.w3.org/2000/svg' viewBox='0 0 512 512'%3e%3cpath fill='%23711adb' d='M488.6 250.2L392 214V105.5c0-15-9.3-28.4-23.4-33.7l-100-37.5c-8.1-3.1-17.1-3.1-25.3 0l-100 37.5c-14.1 5.3-23.4 18.7-23.4 33.7V214l-96.6 36.2C9.3 255.5 0 268.9 0 283.9V394c0 13.6 7.7 26.1 19.9 32.2l100 50c10.1 5.1 22.1 5.1 32.2 0l103.9-52 103.9 52c10.1 5.1 22.1 5.1 32.2 0l100-50c12.2-6.1 19.9-18.6 19.9-32.2V283.9c0-15-9.3-28.4-23.4-33.7zM358 214.8l-85 31.9v-68.2l85-37v73.3zM154 104.1l102-38.2 102 38.2v.6l-102 41.4-102-41.4v-.6zm84 291.1l-85 42.5v-79.1l85-38.8v75.4zm0-112l-102 41.4-102-41.4v-.6l102-38.2 102 38.2v.6zm240 112l-85 42.5v-79.1l85-38.8v75.4zm0-112l-102 41.4-102-41.4v-.6l102-38.2 102 38.2v.6z'/%3e%3c/svg%3e\" alt=\"Image\" width=\"50\" height=\"50\"></p></th>\n",
    "    <th></th>\n",
    "    <th><p class=\"fragment fade-down\" data-fragment-index=\"14\" ><img src=\"data:image/svg+xml,%3csvg xmlns='http://www.w3.org/2000/svg' viewBox='0 0 512 512'%3e%3cpath fill='%23711adb' d='M304 192v32c0 6.6-5.4 12-12 12h-56v56c0 6.6-5.4 12-12 12h-32c-6.6 0-12-5.4-12-12v-56h-56c-6.6 0-12-5.4-12-12v-32c0-6.6 5.4-12 12-12h56v-56c0-6.6 5.4-12 12-12h32c6.6 0 12 5.4 12 12v56h56c6.6 0 12 5.4 12 12zm201 284.7L476.7 505c-9.4 9.4-24.6 9.4-33.9 0L343 405.3c-4.5-4.5-7-10.6-7-17V372c-35.3 27.6-79.7 44-128 44C93.1 416 0 322.9 0 208S93.1 0 208 0s208 93.1 208 208c0 48.3-16.4 92.7-44 128h16.3c6.4 0 12.5 2.5 17 7l99.7 99.7c9.3 9.4 9.3 24.6 0 34zM344 208c0-75.2-60.8-136-136-136S72 132.8 72 208s60.8 136 136 136 136-60.8 136-136z'/%3e%3c/svg%3e\" alt=\"Image\" width=\"50\" height=\"50\"></p></th>\n",
    "  </tr>\n",
    "</thead>\n",
    "<tbody>\n",
    "  <tr>\n",
    "    <td rowspan=\"2\"></td>\n",
    "    <td rowspan=\"2\"></td>\n",
    "    <td rowspan=\"2\"><p class=\"fragment fade-down\" data-fragment-index=\"4\" >Concatenation of single files</p></td>\n",
    "    <td rowspan=\"2\"></td>\n",
    "    <td rowspan=\"2\"><p class=\"fragment fade-down\" data-fragment-index=\"6\" >Droping Missing Values &gt;92%</p></td>\n",
    "    <td rowspan=\"2\"></td>\n",
    "      <td rowspan=\"2\"><p class=\"fragment fade-down\" data-fragment-index=\"8\" >Adding 8 New features</p> <br><p class=\"fragment fade-down\" data-fragment-index=\"8\" >new_age: has 3 categorical values – old, young and adult</p><br><br><p class=\"fragment fade-down\" data-fragment-index=\"8\" >new_hr, new_temp, new_o2sat, new_bp, new_resp, new_map, new_fio2: has 3 categorical values – normal, abnormal and missing</p></td>\n",
    "    <td rowspan=\"2\"></td>\n",
    "    <td style=\"background-color:yellowgreen;color:white;\"> <p class=\"fragment fade-up\" data-fragment-index=\"10\" align=\"center\" >Before <br><img src=\"./img/Bal.png\" width=\"450\" height=\"450\" style=\"border-radius: 10px\"></p></td>\n",
    "    <td></td>\n",
    "      <td><p class=\"fragment fade-down\" data-fragment-index=\"13\" >Decesion Tree</p></td>\n",
    "    <td rowspan=\"2\"></td>\n",
    "    <td style=\"background-color:yellowgreen;color:white;\"><p class=\"fragment fade-up\" data-fragment-index=\"14\" align=\"center\" >$Roc_{DT}=0.76$<br> <br><img src=\"./img/roc1.png\" width=\"450\" height=\"450\" style=\"border-radius: 10px\"></p></td>\n",
    "  </tr>\n",
    "  <tr>\n",
    "    <td style=\"background-color:yellowgreen;color:white;\"><p class=\"fragment fade-up\" data-fragment-index=\"10\" align=\"center\" >After <br><img src=\"./img/abal.png\" width=\"450\" height=\"450\" style=\"border-radius: 10px\"></p></td>\n",
    "    <td></td>\n",
    "      <td><p class=\"fragment fade-up\" data-fragment-index=\"15\" align=\"center\" >Xgboost</p></td>\n",
    "    <td style=\"background-color:yellowgreen;color:white;\"><p class=\"fragment fade-up\" data-fragment-index=\"15\" align=\"center\" >$Roc_{Xgb}=0.80$ <br><img  src=\"./img/roc2.png\" width=\"450\" height=\"450\" style=\"border-radius: 10px\"></p></td>\n",
    "  </tr>\n",
    "</tbody>\n",
    "</table>"
   ]
  },
  {
   "cell_type": "markdown",
   "metadata": {
    "slideshow": {
     "slide_type": "slide"
    }
   },
   "source": [
    "<h2 ><p class=\"fragment fade-up\" data-fragment-index=\"1\"><span class=\"presentation_title\">4.2 Comparing Six ML Models</span></p></h2>\n",
    "<table class=\"kms\" style=\"border: none;\">\n",
    "<thead>\n",
    "  <tr>\n",
    "    <th rowspan=\"2\"><p class=\"fragment fade-down\" data-fragment-index=\"2\" >Buziness and Data<br>understanding</p></th>\n",
    "    <th><p class=\"fragment fade-down\" data-fragment-index=\"3\" ><img src=\"data:image/svg+xml,%3csvg xmlns='http://www.w3.org/2000/svg' viewBox='0 0 448 512'%3e%3cpath fill='%231fdbbb' d='M224.3 273l-136 136c-9.4 9.4-24.6 9.4-33.9 0l-22.6-22.6c-9.4-9.4-9.4-24.6 0-33.9l96.4-96.4-96.4-96.4c-9.4-9.4-9.4-24.6 0-33.9L54.3 103c9.4-9.4 24.6-9.4 33.9 0l136 136c9.5 9.4 9.5 24.6.1 34zm192-34l-136-136c-9.4-9.4-24.6-9.4-33.9 0l-22.6 22.6c-9.4 9.4-9.4 24.6 0 33.9l96.4 96.4-96.4 96.4c-9.4 9.4-9.4 24.6 0 33.9l22.6 22.6c9.4 9.4 24.6 9.4 33.9 0l136-136c9.4-9.2 9.4-24.4 0-33.8z'/%3e%3c/svg%3e\" alt=\"Image\" width=\"50\" height=\"50\"></p></th>\n",
    "      <th><p class=\"fragment fade-down\" data-fragment-index=\"4\" >Concatenation</p></th>\n",
    "    <th><p class=\"fragment fade-down\" data-fragment-index=\"5\" ><img src=\"data:image/svg+xml,%3csvg xmlns='http://www.w3.org/2000/svg' viewBox='0 0 448 512'%3e%3cpath fill='%231fdbbb' d='M224.3 273l-136 136c-9.4 9.4-24.6 9.4-33.9 0l-22.6-22.6c-9.4-9.4-9.4-24.6 0-33.9l96.4-96.4-96.4-96.4c-9.4-9.4-9.4-24.6 0-33.9L54.3 103c9.4-9.4 24.6-9.4 33.9 0l136 136c9.5 9.4 9.5 24.6.1 34zm192-34l-136-136c-9.4-9.4-24.6-9.4-33.9 0l-22.6 22.6c-9.4 9.4-9.4 24.6 0 33.9l96.4 96.4-96.4 96.4c-9.4 9.4-9.4 24.6 0 33.9l22.6 22.6c9.4 9.4 24.6 9.4 33.9 0l136-136c9.4-9.2 9.4-24.4 0-33.8z'/%3e%3c/svg%3e\" alt=\"Image\" width=\"50\" height=\"50\"></p></th>\n",
    "    <th><p class=\"fragment fade-down\" data-fragment-index=\"6\" >Imputing Missing Value</p></th>\n",
    "    <th><p class=\"fragment fade-down\" data-fragment-index=\"7\" ><img src=\"data:image/svg+xml,%3csvg xmlns='http://www.w3.org/2000/svg' viewBox='0 0 448 512'%3e%3cpath fill='%231fdbbb' d='M224.3 273l-136 136c-9.4 9.4-24.6 9.4-33.9 0l-22.6-22.6c-9.4-9.4-9.4-24.6 0-33.9l96.4-96.4-96.4-96.4c-9.4-9.4-9.4-24.6 0-33.9L54.3 103c9.4-9.4 24.6-9.4 33.9 0l136 136c9.5 9.4 9.5 24.6.1 34zm192-34l-136-136c-9.4-9.4-24.6-9.4-33.9 0l-22.6 22.6c-9.4 9.4-9.4 24.6 0 33.9l96.4 96.4-96.4 96.4c-9.4 9.4-9.4 24.6 0 33.9l22.6 22.6c9.4 9.4 24.6 9.4 33.9 0l136-136c9.4-9.2 9.4-24.4 0-33.8z'/%3e%3c/svg%3e\" alt=\"Image\" width=\"50\" height=\"50\"></p></th>\n",
    "      <th><p class=\"fragment fade-down\" data-fragment-index=\"8\" >Feature Selection</p></th>\n",
    "    <th><p class=\"fragment fade-down\" data-fragment-index=\"9\" ><img src=\"data:image/svg+xml,%3csvg xmlns='http://www.w3.org/2000/svg' viewBox='0 0 448 512'%3e%3cpath fill='%231fdbbb' d='M224.3 273l-136 136c-9.4 9.4-24.6 9.4-33.9 0l-22.6-22.6c-9.4-9.4-9.4-24.6 0-33.9l96.4-96.4-96.4-96.4c-9.4-9.4-9.4-24.6 0-33.9L54.3 103c9.4-9.4 24.6-9.4 33.9 0l136 136c9.5 9.4 9.5 24.6.1 34zm192-34l-136-136c-9.4-9.4-24.6-9.4-33.9 0l-22.6 22.6c-9.4 9.4-9.4 24.6 0 33.9l96.4 96.4-96.4 96.4c-9.4 9.4-9.4 24.6 0 33.9l22.6 22.6c9.4 9.4 24.6 9.4 33.9 0l136-136c9.4-9.2 9.4-24.4 0-33.8z'/%3e%3c/svg%3e\" alt=\"Image\" width=\"50\" height=\"50\"></p></th>\n",
    "      <th><p class=\"fragment fade-down\" data-fragment-index=\"10\" >Handling Data imbalance</p></th>\n",
    "    <th><p class=\"fragment fade-down\" data-fragment-index=\"11\" ><img src=\"data:image/svg+xml,%3csvg xmlns='http://www.w3.org/2000/svg' viewBox='0 0 448 512'%3e%3cpath fill='%231fdbbb' d='M224.3 273l-136 136c-9.4 9.4-24.6 9.4-33.9 0l-22.6-22.6c-9.4-9.4-9.4-24.6 0-33.9l96.4-96.4-96.4-96.4c-9.4-9.4-9.4-24.6 0-33.9L54.3 103c9.4-9.4 24.6-9.4 33.9 0l136 136c9.5 9.4 9.5 24.6.1 34zm192-34l-136-136c-9.4-9.4-24.6-9.4-33.9 0l-22.6 22.6c-9.4 9.4-9.4 24.6 0 33.9l96.4 96.4-96.4 96.4c-9.4 9.4-9.4 24.6 0 33.9l22.6 22.6c9.4 9.4 24.6 9.4 33.9 0l136-136c9.4-9.2 9.4-24.4 0-33.8z'/%3e%3c/svg%3e\" alt=\"Image\" width=\"50\" height=\"50\"></p></th>\n",
    "      <th><p class=\"fragment fade-down\" data-fragment-index=\"12\" >Modeling</p></th>\n",
    "    <th><p class=\"fragment fade-down\" data-fragment-index=\"13\" ><img src=\"data:image/svg+xml,%3csvg xmlns='http://www.w3.org/2000/svg' viewBox='0 0 448 512'%3e%3cpath fill='%231fdbbb' d='M224.3 273l-136 136c-9.4 9.4-24.6 9.4-33.9 0l-22.6-22.6c-9.4-9.4-9.4-24.6 0-33.9l96.4-96.4-96.4-96.4c-9.4-9.4-9.4-24.6 0-33.9L54.3 103c9.4-9.4 24.6-9.4 33.9 0l136 136c9.5 9.4 9.5 24.6.1 34zm192-34l-136-136c-9.4-9.4-24.6-9.4-33.9 0l-22.6 22.6c-9.4 9.4-9.4 24.6 0 33.9l96.4 96.4-96.4 96.4c-9.4 9.4-9.4 24.6 0 33.9l22.6 22.6c9.4 9.4 24.6 9.4 33.9 0l136-136c9.4-9.2 9.4-24.4 0-33.8z'/%3e%3c/svg%3e\" alt=\"Image\" width=\"50\" height=\"50\"></p></th>\n",
    "      <th><p class=\"fragment fade-down\" data-fragment-index=\"14\" >Evaluation</p></th>\n",
    "  </tr>\n",
    "  <tr>\n",
    "    <th></th>\n",
    "    <th><p class=\"fragment fade-down\" data-fragment-index=\"4\" ><img src=\"data:image/svg+xml,%3csvg xmlns='http://www.w3.org/2000/svg' viewBox='0 0 512 512'%3e%3cpath fill='%231fdbbb' d='M80 368H16a16 16 0 0 0-16 16v64a16 16 0 0 0 16 16h64a16 16 0 0 0 16-16v-64a16 16 0 0 0-16-16zm0-320H16A16 16 0 0 0 0 64v64a16 16 0 0 0 16 16h64a16 16 0 0 0 16-16V64a16 16 0 0 0-16-16zm0 160H16a16 16 0 0 0-16 16v64a16 16 0 0 0 16 16h64a16 16 0 0 0 16-16v-64a16 16 0 0 0-16-16zm416 176H176a16 16 0 0 0-16 16v32a16 16 0 0 0 16 16h320a16 16 0 0 0 16-16v-32a16 16 0 0 0-16-16zm0-320H176a16 16 0 0 0-16 16v32a16 16 0 0 0 16 16h320a16 16 0 0 0 16-16V80a16 16 0 0 0-16-16zm0 160H176a16 16 0 0 0-16 16v32a16 16 0 0 0 16 16h320a16 16 0 0 0 16-16v-32a16 16 0 0 0-16-16z'/%3e%3c/svg%3e\" width=\"50\" height=\"50\"></p></th>\n",
    "    <th></th>\n",
    "    <th><p class=\"fragment fade-down\" data-fragment-index=\"6\" ><img src=\"data:image/svg+xml,%3csvg xmlns='http://www.w3.org/2000/svg' viewBox='0 0 352 512'%3e%3cpath fill='%231fdbbb' d='M242.72 256l100.07-100.07c12.28-12.28 12.28-32.19 0-44.48l-22.24-22.24c-12.28-12.28-32.19-12.28-44.48 0L176 189.28 75.93 89.21c-12.28-12.28-32.19-12.28-44.48 0L9.21 111.45c-12.28 12.28-12.28 32.19 0 44.48L109.28 256 9.21 356.07c-12.28 12.28-12.28 32.19 0 44.48l22.24 22.24c12.28 12.28 32.2 12.28 44.48 0L176 322.72l100.07 100.07c12.28 12.28 32.2 12.28 44.48 0l22.24-22.24c12.28-12.28 12.28-32.19 0-44.48L242.72 256z'/%3e%3c/svg%3e\" alt=\"Image\" width=\"50\" height=\"50\"></p></th>\n",
    "    <th></th>\n",
    "    <th><p class=\"fragment fade-down\" data-fragment-index=\"8\" ><img src=\"data:image/svg+xml,%3csvg xmlns='http://www.w3.org/2000/svg' viewBox='0 0 576 512'%3e%3cpath fill='%231fdbbb' d='M402.6 83.2l90.2 90.2c3.8 3.8 3.8 10 0 13.8L274.4 405.6l-92.8 10.3c-12.4 1.4-22.9-9.1-21.5-21.5l10.3-92.8L388.8 83.2c3.8-3.8 10-3.8 13.8 0zm162-22.9l-48.8-48.8c-15.2-15.2-39.9-15.2-55.2 0l-35.4 35.4c-3.8 3.8-3.8 10 0 13.8l90.2 90.2c3.8 3.8 10 3.8 13.8 0l35.4-35.4c15.2-15.3 15.2-40 0-55.2zM384 346.2V448H64V128h229.8c3.2 0 6.2-1.3 8.5-3.5l40-40c7.6-7.6 2.2-20.5-8.5-20.5H48C21.5 64 0 85.5 0 112v352c0 26.5 21.5 48 48 48h352c26.5 0 48-21.5 48-48V306.2c0-10.7-12.9-16-20.5-8.5l-40 40c-2.2 2.3-3.5 5.3-3.5 8.5z'/%3e%3c/svg%3e\" alt=\"Image\" width=\"50\" height=\"50\"></p></th>\n",
    "    <th></th>\n",
    "    <th><p class=\"fragment fade-down\" data-fragment-index=\"10\" ><img src=\"data:image/svg+xml,%3csvg xmlns='http://www.w3.org/2000/svg' viewBox='0 0 640 512'%3e%3cpath fill='%231fdbbb' d='M528 448H352V153.25c20.42-8.94 36.1-26.22 43.38-47.47l132-44.26c8.38-2.81 12.89-11.88 10.08-20.26l-10.17-30.34C524.48 2.54 515.41-1.97 507.03.84L389.11 40.37C375.3 16.36 349.69 0 320 0c-44.18 0-80 35.82-80 80 0 3.43.59 6.71 1.01 10.03l-128.39 43.05c-8.38 2.81-12.89 11.88-10.08 20.26l10.17 30.34c2.81 8.38 11.88 12.89 20.26 10.08l142.05-47.63c4.07 2.77 8.43 5.12 12.99 7.12V496c0 8.84 7.16 16 16 16h224c8.84 0 16-7.16 16-16v-32c-.01-8.84-7.17-16-16.01-16zm111.98-144c0-16.18 1.34-8.73-85.05-181.51-17.65-35.29-68.19-35.36-85.87 0-87.12 174.26-85.04 165.84-85.04 181.51H384c0 44.18 57.31 80 128 80s128-35.82 128-80h-.02zM440 288l72-144 72 144H440zm-269.07-37.51c-17.65-35.29-68.19-35.36-85.87 0C-2.06 424.75.02 416.33.02 432H0c0 44.18 57.31 80 128 80s128-35.82 128-80h-.02c0-16.18 1.34-8.73-85.05-181.51zM56 416l72-144 72 144H56z'/%3e%3c/svg%3e\" alt=\"Image\" width=\"50\" height=\"50\"></p></th>\n",
    "    <th></th>\n",
    "    <th><p class=\"fragment fade-down\" data-fragment-index=\"12\" ><img src=\"data:image/svg+xml,%3csvg xmlns='http://www.w3.org/2000/svg' viewBox='0 0 512 512'%3e%3cpath fill='%231fdbbb' d='M488.6 250.2L392 214V105.5c0-15-9.3-28.4-23.4-33.7l-100-37.5c-8.1-3.1-17.1-3.1-25.3 0l-100 37.5c-14.1 5.3-23.4 18.7-23.4 33.7V214l-96.6 36.2C9.3 255.5 0 268.9 0 283.9V394c0 13.6 7.7 26.1 19.9 32.2l100 50c10.1 5.1 22.1 5.1 32.2 0l103.9-52 103.9 52c10.1 5.1 22.1 5.1 32.2 0l100-50c12.2-6.1 19.9-18.6 19.9-32.2V283.9c0-15-9.3-28.4-23.4-33.7zM358 214.8l-85 31.9v-68.2l85-37v73.3zM154 104.1l102-38.2 102 38.2v.6l-102 41.4-102-41.4v-.6zm84 291.1l-85 42.5v-79.1l85-38.8v75.4zm0-112l-102 41.4-102-41.4v-.6l102-38.2 102 38.2v.6zm240 112l-85 42.5v-79.1l85-38.8v75.4zm0-112l-102 41.4-102-41.4v-.6l102-38.2 102 38.2v.6z'/%3e%3c/svg%3e\" alt=\"Image\" width=\"50\" height=\"50\"></p></th>\n",
    "    <th></th>\n",
    "    <th><p class=\"fragment fade-down\" data-fragment-index=\"14\" ><img src=\"data:image/svg+xml,%3csvg xmlns='http://www.w3.org/2000/svg' viewBox='0 0 512 512'%3e%3cpath fill='%231fdbbb' d='M304 192v32c0 6.6-5.4 12-12 12h-56v56c0 6.6-5.4 12-12 12h-32c-6.6 0-12-5.4-12-12v-56h-56c-6.6 0-12-5.4-12-12v-32c0-6.6 5.4-12 12-12h56v-56c0-6.6 5.4-12 12-12h32c6.6 0 12 5.4 12 12v56h56c6.6 0 12 5.4 12 12zm201 284.7L476.7 505c-9.4 9.4-24.6 9.4-33.9 0L343 405.3c-4.5-4.5-7-10.6-7-17V372c-35.3 27.6-79.7 44-128 44C93.1 416 0 322.9 0 208S93.1 0 208 0s208 93.1 208 208c0 48.3-16.4 92.7-44 128h16.3c6.4 0 12.5 2.5 17 7l99.7 99.7c9.3 9.4 9.3 24.6 0 34zM344 208c0-75.2-60.8-136-136-136S72 132.8 72 208s60.8 136 136 136 136-60.8 136-136z'/%3e%3c/svg%3e\" alt=\"Image\" width=\"50\" height=\"50\"></p></th>\n",
    "  </tr>\n",
    "</thead>\n",
    "<tbody>\n",
    "  <tr>\n",
    "    <td rowspan=\"2\"></td>\n",
    "    <td rowspan=\"2\"></td>\n",
    "    <td rowspan=\"2\"><p class=\"fragment fade-down\" data-fragment-index=\"4\" >Concatenation of single files</p></td>\n",
    "    <td rowspan=\"2\"></td>\n",
    "    <td rowspan=\"2\"><p class=\"fragment fade-down\" data-fragment-index=\"6\" >Imputing missing value</p></td>\n",
    "    <td rowspan=\"2\"></td>\n",
    "      <td rowspan=\"2\"><p class=\"fragment fade-down\" data-fragment-index=\"8\" >Feature selection using Xgboost</p> </td>\n",
    "    <td rowspan=\"2\"></td>\n",
    "    <td style=\"background-color:yellowgreen;color:white;\"> <p class=\"fragment fade-up\" data-fragment-index=\"10\" align=\"center\" >Before <br><img src=\"./img/balc.png\" width=\"450\" height=\"450\" style=\"border-radius: 10px\"></p></td>\n",
    "    <td></td>\n",
    "      <td width=\"130\"><p class=\"fragment fade-down\" data-fragment-index=\"13\" >Accuracy <br>MLP: <span class=\"fragment fade-up\" data-fragment-index=\"14\"> $95.23\\%$</span>\n",
    " <br> AdaBoost: <span class=\"fragment fade-left\" data-fragment-index=\"14\"> $79.83\\%$</span><br>Gradiant Boost:  <span class=\"fragment fade-right\" data-fragment-index=\"14\"> $91.4\\%$</span><br>GaussianNB: <span class=\"fragment fade-up\" data-fragment-index=\"14\"> $57.77\\%$</span><br>LDA:  <span class=\"fragment fade-down\" data-fragment-index=\"14\"> $72.41\\%$</span><br>QDA: <span class=\"fragment fade-down\" data-fragment-index=\"14\"> $51.31\\%$</span><p></p></td>\n",
    "    <td rowspan=\"2\"></td>\n",
    "    <td style=\"background-color:yellowgreen;color:white;\"><p class=\"fragment fade-up\" data-fragment-index=\"14\" align=\"center\" >Classifier accuracy<br> <br><img src=\"./img/cacc.png\" width=\"450\" height=\"450\" style=\"border-radius: 10px\"></p></td>\n",
    "  </tr>\n",
    "  <tr>\n",
    "    <td style=\"background-color:yellowgreen;color:white;\"><p class=\"fragment fade-up\" data-fragment-index=\"10\" align=\"center\" >After <br><img src=\"./img/abalc.png\" width=\"450\" height=\"450\" style=\"border-radius: 10px\"></p></td>\n",
    "    <td></td>\n",
    "      <td><p class=\"fragment fade-up\" data-fragment-index=\"15\" align=\"center\" >LogLoss <br>$MLP: 0.152$\n",
    " <br> $AdaBoost: 0.673$<br>$Gradiant Boost: 0.311$<br>$GaussianNB: 2.120$<br>$LDA: 0.549$<br>$QDA: 13.859$</p></td>\n",
    "    <td style=\"background-color:yellowgreen;color:white;\"><p class=\"fragment fade-up\" data-fragment-index=\"15\" align=\"center\" >Log Loss <br><img  src=\"./img/logl.png\" width=\"450\" height=\"450\" style=\"border-radius: 10px\"></p></td>\n",
    "  </tr>\n",
    "</tbody>\n",
    "</table>\n",
    "<p class=\"fragment fade-up\" data-fragment-index=\"16\"><a href=\"https://colab.research.google.com/github/nevermind78/Capstone/blob/main/sepsis_lr.ipynb\">Demo</a></p>"
   ]
  },
  {
   "cell_type": "markdown",
   "metadata": {
    "slideshow": {
     "slide_type": "slide"
    }
   },
   "source": [
    "<h2 ><p class=\"fragment fade-up\" data-fragment-index=\"1\"><span class=\"presentation_title\">4.3 MLP</span></p></h2>\n",
    "\n",
    "[Demo](https://mybinder.org/v2/gh/nevermind78/capstone/main?filepath=Demo.ipynb)\n"
   ]
  },
  {
   "cell_type": "code",
   "execution_count": 49,
   "metadata": {
    "slideshow": {
     "slide_type": "subslide"
    }
   },
   "outputs": [],
   "source": [
    "import matplotlib.pyplot as plt\n",
    "import seaborn as sns\n",
    "import pandas as pd\n",
    "from sklearn import preprocessing\n",
    "from sklearn.model_selection import train_test_split"
   ]
  },
  {
   "cell_type": "code",
   "execution_count": 50,
   "metadata": {
    "slideshow": {
     "slide_type": "subslide"
    }
   },
   "outputs": [
    {
     "data": {
      "text/html": [
       "<div>\n",
       "<style scoped>\n",
       "    .dataframe tbody tr th:only-of-type {\n",
       "        vertical-align: middle;\n",
       "    }\n",
       "\n",
       "    .dataframe tbody tr th {\n",
       "        vertical-align: top;\n",
       "    }\n",
       "\n",
       "    .dataframe thead th {\n",
       "        text-align: right;\n",
       "    }\n",
       "</style>\n",
       "<table border=\"1\" class=\"dataframe\">\n",
       "  <thead>\n",
       "    <tr style=\"text-align: right;\">\n",
       "      <th></th>\n",
       "      <th>HR</th>\n",
       "      <th>O2Sat</th>\n",
       "      <th>Temp</th>\n",
       "      <th>SBP</th>\n",
       "      <th>MAP</th>\n",
       "      <th>DBP</th>\n",
       "      <th>Resp</th>\n",
       "      <th>EtCO2</th>\n",
       "      <th>BaseExcess</th>\n",
       "      <th>HCO3</th>\n",
       "      <th>...</th>\n",
       "      <th>WBC</th>\n",
       "      <th>Fibrinogen</th>\n",
       "      <th>Platelets</th>\n",
       "      <th>Age</th>\n",
       "      <th>Gender</th>\n",
       "      <th>Unit1</th>\n",
       "      <th>Unit2</th>\n",
       "      <th>HospAdmTime</th>\n",
       "      <th>ICULOS</th>\n",
       "      <th>SepsisLabel</th>\n",
       "    </tr>\n",
       "  </thead>\n",
       "  <tbody>\n",
       "    <tr>\n",
       "      <th>0</th>\n",
       "      <td>61.0</td>\n",
       "      <td>99.0</td>\n",
       "      <td>36.44</td>\n",
       "      <td>124.0</td>\n",
       "      <td>65.0</td>\n",
       "      <td>43.0</td>\n",
       "      <td>17.5</td>\n",
       "      <td>0.0</td>\n",
       "      <td>0.0</td>\n",
       "      <td>22.0</td>\n",
       "      <td>...</td>\n",
       "      <td>11.0</td>\n",
       "      <td>0.0</td>\n",
       "      <td>158.0</td>\n",
       "      <td>75.91</td>\n",
       "      <td>0</td>\n",
       "      <td>0.0</td>\n",
       "      <td>1.0</td>\n",
       "      <td>-98.6</td>\n",
       "      <td>2</td>\n",
       "      <td>0</td>\n",
       "    </tr>\n",
       "    <tr>\n",
       "      <th>1</th>\n",
       "      <td>64.0</td>\n",
       "      <td>98.0</td>\n",
       "      <td>36.44</td>\n",
       "      <td>125.0</td>\n",
       "      <td>64.0</td>\n",
       "      <td>41.0</td>\n",
       "      <td>27.0</td>\n",
       "      <td>0.0</td>\n",
       "      <td>0.0</td>\n",
       "      <td>22.0</td>\n",
       "      <td>...</td>\n",
       "      <td>11.0</td>\n",
       "      <td>0.0</td>\n",
       "      <td>158.0</td>\n",
       "      <td>75.91</td>\n",
       "      <td>0</td>\n",
       "      <td>0.0</td>\n",
       "      <td>1.0</td>\n",
       "      <td>-98.6</td>\n",
       "      <td>3</td>\n",
       "      <td>0</td>\n",
       "    </tr>\n",
       "    <tr>\n",
       "      <th>2</th>\n",
       "      <td>56.0</td>\n",
       "      <td>100.0</td>\n",
       "      <td>36.44</td>\n",
       "      <td>123.0</td>\n",
       "      <td>65.0</td>\n",
       "      <td>41.0</td>\n",
       "      <td>9.0</td>\n",
       "      <td>0.0</td>\n",
       "      <td>0.0</td>\n",
       "      <td>22.0</td>\n",
       "      <td>...</td>\n",
       "      <td>11.0</td>\n",
       "      <td>0.0</td>\n",
       "      <td>158.0</td>\n",
       "      <td>75.91</td>\n",
       "      <td>0</td>\n",
       "      <td>0.0</td>\n",
       "      <td>1.0</td>\n",
       "      <td>-98.6</td>\n",
       "      <td>4</td>\n",
       "      <td>0</td>\n",
       "    </tr>\n",
       "    <tr>\n",
       "      <th>3</th>\n",
       "      <td>66.0</td>\n",
       "      <td>99.0</td>\n",
       "      <td>36.22</td>\n",
       "      <td>120.0</td>\n",
       "      <td>67.0</td>\n",
       "      <td>43.0</td>\n",
       "      <td>23.0</td>\n",
       "      <td>0.0</td>\n",
       "      <td>0.0</td>\n",
       "      <td>22.0</td>\n",
       "      <td>...</td>\n",
       "      <td>11.0</td>\n",
       "      <td>0.0</td>\n",
       "      <td>158.0</td>\n",
       "      <td>75.91</td>\n",
       "      <td>0</td>\n",
       "      <td>0.0</td>\n",
       "      <td>1.0</td>\n",
       "      <td>-98.6</td>\n",
       "      <td>5</td>\n",
       "      <td>0</td>\n",
       "    </tr>\n",
       "    <tr>\n",
       "      <th>4</th>\n",
       "      <td>94.0</td>\n",
       "      <td>100.0</td>\n",
       "      <td>36.22</td>\n",
       "      <td>194.0</td>\n",
       "      <td>116.0</td>\n",
       "      <td>66.0</td>\n",
       "      <td>14.0</td>\n",
       "      <td>0.0</td>\n",
       "      <td>0.0</td>\n",
       "      <td>22.0</td>\n",
       "      <td>...</td>\n",
       "      <td>11.0</td>\n",
       "      <td>0.0</td>\n",
       "      <td>158.0</td>\n",
       "      <td>75.91</td>\n",
       "      <td>0</td>\n",
       "      <td>0.0</td>\n",
       "      <td>1.0</td>\n",
       "      <td>-98.6</td>\n",
       "      <td>6</td>\n",
       "      <td>0</td>\n",
       "    </tr>\n",
       "  </tbody>\n",
       "</table>\n",
       "<p>5 rows × 41 columns</p>\n",
       "</div>"
      ],
      "text/plain": [
       "     HR  O2Sat   Temp    SBP    MAP   DBP  Resp  EtCO2  BaseExcess  HCO3  ...  \\\n",
       "0  61.0   99.0  36.44  124.0   65.0  43.0  17.5    0.0         0.0  22.0  ...   \n",
       "1  64.0   98.0  36.44  125.0   64.0  41.0  27.0    0.0         0.0  22.0  ...   \n",
       "2  56.0  100.0  36.44  123.0   65.0  41.0   9.0    0.0         0.0  22.0  ...   \n",
       "3  66.0   99.0  36.22  120.0   67.0  43.0  23.0    0.0         0.0  22.0  ...   \n",
       "4  94.0  100.0  36.22  194.0  116.0  66.0  14.0    0.0         0.0  22.0  ...   \n",
       "\n",
       "    WBC  Fibrinogen  Platelets    Age  Gender  Unit1  Unit2  HospAdmTime  \\\n",
       "0  11.0         0.0      158.0  75.91       0    0.0    1.0        -98.6   \n",
       "1  11.0         0.0      158.0  75.91       0    0.0    1.0        -98.6   \n",
       "2  11.0         0.0      158.0  75.91       0    0.0    1.0        -98.6   \n",
       "3  11.0         0.0      158.0  75.91       0    0.0    1.0        -98.6   \n",
       "4  11.0         0.0      158.0  75.91       0    0.0    1.0        -98.6   \n",
       "\n",
       "   ICULOS  SepsisLabel  \n",
       "0       2            0  \n",
       "1       3            0  \n",
       "2       4            0  \n",
       "3       5            0  \n",
       "4       6            0  \n",
       "\n",
       "[5 rows x 41 columns]"
      ]
     },
     "execution_count": 50,
     "metadata": {},
     "output_type": "execute_result"
    }
   ],
   "source": [
    "dataset = pd.read_csv(\"sepsis_data.csv\")\n",
    "dataset.head()"
   ]
  },
  {
   "cell_type": "code",
   "execution_count": 51,
   "metadata": {
    "slideshow": {
     "slide_type": "subslide"
    }
   },
   "outputs": [],
   "source": [
    "from sklearn.utils import resample\n",
    "\n",
    "#resample the data \n",
    "df_majority = dataset[dataset.SepsisLabel==0]\n",
    "df_minority = dataset[dataset.SepsisLabel==1]\n",
    "\n",
    "df_minority_upsampled = resample(df_minority, \n",
    "                                 replace=True,     # sample with replacement\n",
    "                                 n_samples=57070,    # to match majority class\n",
    "                                 random_state=123) # reproducible results\n",
    "\n",
    "df_upsampled = pd.concat([df_majority, df_minority_upsampled])\n",
    "X = df_upsampled[df_upsampled.columns[0:40]].values\n",
    "Y = df_upsampled[df_upsampled.columns[40:]].values\n",
    "\n",
    "#get the train and test data\n",
    "X_train, X_test, Y_train, Y_test = train_test_split(X, Y, test_size=0.20, random_state=0)"
   ]
  },
  {
   "cell_type": "code",
   "execution_count": 52,
   "metadata": {
    "slideshow": {
     "slide_type": "subslide"
    }
   },
   "outputs": [
    {
     "name": "stdout",
     "output_type": "stream",
     "text": [
      "0.9731470124408621\n"
     ]
    }
   ],
   "source": [
    "#showing the results\n",
    "import pickle\n",
    "filename = 'finalized_model2.sav'\n",
    "loaded_model = pickle.load(open(filename, 'rb'))\n",
    "result = loaded_model.score(X_test, Y_test)\n",
    "print(result)"
   ]
  },
  {
   "cell_type": "code",
   "execution_count": 5,
   "metadata": {
    "slideshow": {
     "slide_type": "subslide"
    }
   },
   "outputs": [
    {
     "data": {
      "image/png": "[encoded data removed]",
      "text/plain": [
       "<Figure size 432x288 with 2 Axes>"
      ]
     },
     "metadata": {
      "needs_background": "light"
     },
     "output_type": "display_data"
    }
   ],
   "source": [
    "from sklearn.metrics import confusion_matrix ,ConfusionMatrixDisplay\n",
    "predicted = loaded_model.predict(X_test)\n",
    "cm=confusion_matrix(Y_test,predicted)\n",
    "disp=ConfusionMatrixDisplay(confusion_matrix=cm,display_labels=loaded_model.classes_)\n",
    "disp.plot()\n",
    "plt.show()"
   ]
  },
  {
   "cell_type": "code",
   "execution_count": 47,
   "metadata": {
    "slideshow": {
     "slide_type": "subslide"
    }
   },
   "outputs": [],
   "source": [
    "def plot_ROC(y_test, y_score, n_classes=2):\n",
    "    from sklearn.metrics import precision_score, classification_report,average_precision_score, accuracy_score, balanced_accuracy_score, precision_recall_curve, f1_score, auc, roc_curve\n",
    "    # Compute ROC curve and ROC area for each class\n",
    "    fpr = dict()\n",
    "    tpr = dict()\n",
    "    roc_auc = dict()\n",
    "    fpr['positive'], tpr['positive'], _ = roc_curve(y_test, y_score)\n",
    "    roc_auc['positive'] = auc(fpr['positive'], tpr['positive'])\n",
    "\n",
    "    # Compute micro-average ROC curve and ROC area\n",
    "    fpr[\"micro\"], tpr[\"micro\"], _ = roc_curve(y_test.ravel(), y_score.ravel())\n",
    "    roc_auc[\"micro\"] = auc(fpr[\"micro\"], tpr[\"micro\"])\n",
    "    \n",
    "    plt.figure()\n",
    "    lw = 2\n",
    "    plt.plot(fpr['positive'], tpr['positive'], color='darkorange',\n",
    "             lw=lw, label='ROC curve (area = %0.2f)' % roc_auc['positive'])\n",
    "    plt.plot([0, 1], [0, 1], color='navy', lw=lw, linestyle='--')\n",
    "    plt.xlim([0.0, 1.0])\n",
    "    plt.ylim([0.0, 1.05])\n",
    "    plt.xlabel('False Positive Rate')\n",
    "    plt.ylabel('True Positive Rate')\n",
    "    plt.title('Receiver operating characteristic curve')\n",
    "    plt.legend(loc=\"lower right\")\n",
    "    plt.show()"
   ]
  },
  {
   "cell_type": "code",
   "execution_count": 48,
   "metadata": {
    "scrolled": true,
    "slideshow": {
     "slide_type": "subslide"
    }
   },
   "outputs": [
    {
     "data": {
      "image/png": "[encoded data removed]",
      "text/plain": [
       "<Figure size 432x288 with 1 Axes>"
      ]
     },
     "metadata": {
      "needs_background": "light"
     },
     "output_type": "display_data"
    }
   ],
   "source": [
    "plot_ROC(Y_test,yhat_probas[:,1])"
   ]
  },
  {
   "cell_type": "markdown",
   "metadata": {
    "slideshow": {
     "slide_type": "slide"
    },
    "variables": {
     "footer_html": "<div class='footer'>Name of Event | Title goes here | 26-02-2021</div>"
    }
   },
   "source": [
    "<h1 ><p class=\"fragment fade-up\" data-fragment-index=\"1\"><span class=\"presentation_title\">5 Conclusion & Future Scope</span></p></h1>\n",
    " </div>  \n",
    "    <div class='column' id='frame'>\n",
    "        <br><br><br>\n",
    "        <center><img id=\"undraw_col_img\" src=\"./img/undraw_lightbulb.svg\"></center>\n",
    "    </div>\n",
    "       \n"
   ]
  },
  {
   "cell_type": "markdown",
   "metadata": {
    "slideshow": {
     "slide_type": "subslide"
    }
   },
   "source": [
    "<h2 ><p class=\"fragment fade-up\" data-fragment-index=\"1\"><span class=\"presentation_title\">5.1 Conclusion </span></p></h2>\n",
    "<p class=\"fragment fade-in-then-out\" data-fragment-index=\"2\" align=\"center\" >What made the challenge too hard was the presence of a lot of  <span class=\"bkg_contrastR\">missing data</span>\n",
    "<p class=\"fragment fade-in-then-out\" data-fragment-index=\"3\" align=\"center\" >At first we had to add <span class=\"bkg_contrastR\"> 8 new features</span>to compensate for the missing data <p class=\"fragment fade-in-then-out\" data-fragment-index=\"4\" >We got a result with the <span class=\"bkg_contrastB\">Decision tree</span> algorithm and <span class=\"bkg_contrastB\">Xgboost</span> that partially classify <span class=\"bkg_contrastR\">sepsis. </span></p>\n",
    "<p class=\"fragment fade-right\" data-fragment-index=\"5\" align=\"center\" >The quest to find the best model led us to consider   <span class=\"bkg_contrastR\">all the dataset</span> and eliminate the<span class=\"bkg_contrastR\">unbalanced</span> data.</p>\n",
    "<p class=\"fragment fade-left\" data-fragment-index=\"6\" align=\"center\" >The choice for the <span class=\"bkg_contrastR\">6 models</span> to compare was already inspired by the success of these algorithms in similar problems.</p><p class=\"fragment fade-left\" data-fragment-index=\"7\" align=\"center\" >The result given by the MLP algorithm seems to confirm that it is a good choice for the prediction of sepsis through a <span class=\"bkg_contrastR\">time independent approach</span>. </p>"
   ]
  },
  {
   "cell_type": "markdown",
   "metadata": {
    "slideshow": {
     "slide_type": "subslide"
    }
   },
   "source": [
    "<h2 ><p class=\"fragment fade-up\" data-fragment-index=\"1\"><span class=\"presentation_title\">5.2 Future Scope </span></p></h2>\n",
    "<p class=\"fragment fade-in-then-out\" data-fragment-index=\"2\" align=\"center\" >In a future work,</p> <p class=\"fragment fade-in-then-out\" data-fragment-index=\"3\" align=\"center\" >we will use the time component approach and consider the problem as being the classification of a multivariate time series with<span class=\"bkg_contrastR\">two classes</span>.\n",
    "<p class=\"fragment fade-in-then-out\" data-fragment-index=\"4\" align=\"center\" >We will focus on a complete set of data,so we have to deal with the interpolation of the <span class=\"bkg_contrastR\">missing value</span>.\n",
    "<p class=\"fragment fade-in-then-out\" data-fragment-index=\"5\" >We will try to get a more concise way of <span class=\"bkg_contrastB\">learning distribution</span> from other equivalent problems and measure.</p>\n",
    "<p class=\"fragment fade-left\" data-fragment-index=\"6\" align=\"center\" >The sepsis challenge prediction with <span class=\"bkg_contrastR\">time series </span> approach depend on the study of the <span class=\"bkg_contrastR\">relationship</span> between observed data at different times,</p> <p class=\"fragment fade-left\" data-fragment-index=\"7\" align=\"center\" >and the number of <span class=\"bkg_contrastR\">lag observations </span> provided as input must be checked and specified.</p>"
   ]
  },
  {
   "cell_type": "markdown",
   "metadata": {
    "slideshow": {
     "slide_type": "slide"
    },
    "variables": {
     "email_html": "<a href='mailto:your@email.com'>your@email.com</a>",
     "footer_html": "<div class='footer'>Name of Event | Title goes here | 26-02-2021</div>",
     "name": "Your Name MSc.",
     "twitter_html": "<a href='https://twitter.com/twitter'>@twitter</a>",
     "url_html": "<a href='www.your-website.com'>www.your-website.com</a>"
    }
   },
   "source": [
    "<div class=\"uu_title_container\">\n",
    "    <div class='column'>\n",
    "        <br><br><br>\n",
    "        <h2><span class=\"presentation_title\">Thank You</span></h2>\n",
    "        <br><br>\n",
    "        <p><b>Contact:</b><br><br>Mail:&emsp;&emsp;&nbsp;<a href='mailto:abdallah.khemais@gmail.com'>abdallah.khemais@gmail.com</a><br><br>URL:&emsp;&emsp;<a href='https://github.com/nevermind78/Capstone'>https://github.com/nevermind78/Capstone</a></p>\n",
    "    </div>  \n",
    "    <div class='column' id='frame'>\n",
    "        <br><br><br>\n",
    "        <figure><center><img id=\"undraw_col_img\" src=\"./img/undraw_contact_us.svg\"></center></figure>\n",
    "    </div>\n",
    "</div>\n"
   ]
  },
  {
   "cell_type": "markdown",
   "metadata": {
    "slideshow": {
     "slide_type": "slide"
    },
    "variables": {}
   },
   "source": [
    "## References\n",
    "\n",
    "<div class=\"footer\">These slides were made using <a href=\"https://github.com/damianavila/RISE\"><code>RISE</code></a>, <a href=\"https://fonts.google.com/\">Google Fonts</a> and <a href=\"https://undraw.co\">Undraw Illustrations</a></div>"
   ]
  }
 ],
 "metadata": {
  "celltoolbar": "Diaporama",
  "kernelspec": {
   "display_name": "Python 3",
   "language": "python",
   "name": "python3"
  },
  "language_info": {
   "codemirror_mode": {
    "name": "ipython",
    "version": 3
   },
   "file_extension": ".py",
   "mimetype": "text/x-python",
   "name": "python",
   "nbconvert_exporter": "python",
   "pygments_lexer": "ipython3",
   "version": "3.7.6"
  },
  "livereveal": {
   "autolaunch": true
  },
  "notify_time": "5",
  "rise": {
   "center": true
  },
  "toc": {
   "base_numbering": 1,
   "nav_menu": {},
   "number_sections": true,
   "sideBar": true,
   "skip_h1_title": true,
   "title_cell": "Table of Contents",
   "title_sidebar": "Contents",
   "toc_cell": false,
   "toc_position": {},
   "toc_section_display": true,
   "toc_window_display": false
  },
  "varInspector": {
   "cols": {
    "lenName": 16,
    "lenType": 16,
    "lenVar": 40
   },
   "kernels_config": {
    "python": {
     "delete_cmd_postfix": "",
     "delete_cmd_prefix": "del ",
     "library": "var_list.py",
     "varRefreshCmd": "print(var_dic_list())"
    },
    "r": {
     "delete_cmd_postfix": ") ",
     "delete_cmd_prefix": "rm(",
     "library": "var_list.r",
     "varRefreshCmd": "cat(var_dic_list()) "
    }
   },
   "types_to_exclude": [
    "module",
    "function",
    "builtin_function_or_method",
    "instance",
    "_Feature"
   ],
   "window_display": false
  }
 },
 "nbformat": 4,
 "nbformat_minor": 2
}
