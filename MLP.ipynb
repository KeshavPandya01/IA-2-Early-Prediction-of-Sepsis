{
  "nbformat": 4,
  "nbformat_minor": 0,
  "metadata": {
    "colab": {
      "name": "MLP.ipynb",
      "provenance": [],
      "collapsed_sections": [],
      "authorship_tag": "ABX9TyP+Z5Ci+mWc2w3y+GZZNOrA",
      "include_colab_link": true
    },
    "kernelspec": {
      "name": "python3",
      "display_name": "Python 3"
    },
    "language_info": {
      "name": "python"
    }
  },
  "cells": [
    {
      "cell_type": "markdown",
      "metadata": {
        "id": "view-in-github",
        "colab_type": "text"
      },
      "source": [
        "<a href=\"https://colab.research.google.com/github/nevermind78/Capstone/blob/main/MLP.ipynb\" target=\"_parent\"><img src=\"https://colab.research.google.com/assets/colab-badge.svg\" alt=\"Open In Colab\"/></a>"
      ]
    },
    {
      "cell_type": "code",
      "execution_count": 85,
      "metadata": {
        "colab": {
          "base_uri": "https://localhost:8080/"
        },
        "id": "6UaS2mz8gPsU",
        "outputId": "a5cc82ea-1de1-4882-8c6b-ad50c01dee5a"
      },
      "outputs": [
        {
          "output_type": "stream",
          "name": "stdout",
          "text": [
            "--2021-12-09 09:14:11--  https://github.com/nevermind78/Capstone/raw/main/finalized_model.sav\n",
            "Resolving github.com (github.com)... 140.82.112.4\n",
            "Connecting to github.com (github.com)|140.82.112.4|:443... connected.\n",
            "HTTP request sent, awaiting response... 302 Found\n",
            "Location: https://raw.githubusercontent.com/nevermind78/Capstone/main/finalized_model.sav [following]\n",
            "--2021-12-09 09:14:11--  https://raw.githubusercontent.com/nevermind78/Capstone/main/finalized_model.sav\n",
            "Resolving raw.githubusercontent.com (raw.githubusercontent.com)... 185.199.108.133, 185.199.109.133, 185.199.110.133, ...\n",
            "Connecting to raw.githubusercontent.com (raw.githubusercontent.com)|185.199.108.133|:443... connected.\n",
            "HTTP request sent, awaiting response... 200 OK\n",
            "Length: 24109 (24K) [application/octet-stream]\n",
            "Saving to: ‘finalized_model.sav’\n",
            "\n",
            "\rfinalized_model.sav   0%[                    ]       0  --.-KB/s               \rfinalized_model.sav 100%[===================>]  23.54K  --.-KB/s    in 0.001s  \n",
            "\n",
            "2021-12-09 09:14:11 (32.0 MB/s) - ‘finalized_model.sav’ saved [24109/24109]\n",
            "\n"
          ]
        }
      ],
      "source": [
        "#!wget https://github.com/nevermind78/Capstone/blob/main/sepsis.csv\n",
        "!wget https://github.com/nevermind78/Capstone/raw/main/finalized_model.sav"
      ]
    },
    {
      "cell_type": "markdown",
      "source": [
        "# Code for MLP Classifier Algorithm"
      ],
      "metadata": {
        "id": "aG7WtX4XggP-"
      }
    },
    {
      "cell_type": "code",
      "source": [
        "import matplotlib.pyplot as plt\n",
        "import seaborn as sns\n",
        "import pandas as pd\n",
        "from sklearn import preprocessing\n",
        "from sklearn.model_selection import train_test_split"
      ],
      "metadata": {
        "id": "Mwy0Y7qLghu1"
      },
      "execution_count": 64,
      "outputs": []
    },
    {
      "cell_type": "code",
      "source": [
        "dataset = pd.read_csv(\"https://raw.githubusercontent.com/nevermind78/Capstone/main/sepsis.csv\")\n",
        "dataset.shape"
      ],
      "metadata": {
        "colab": {
          "base_uri": "https://localhost:8080/"
        },
        "id": "4nk4NR8fgxFl",
        "outputId": "2b0b046d-85cd-4a15-a9fd-a4deee3d074f"
      },
      "execution_count": 95,
      "outputs": [
        {
          "output_type": "execute_result",
          "data": {
            "text/plain": [
              "(38809, 41)"
            ]
          },
          "metadata": {},
          "execution_count": 95
        }
      ]
    },
    {
      "cell_type": "code",
      "source": [
        "from sklearn.utils import resample\n",
        "df_majority = dataset[dataset.SepsisLabel==0]\n",
        "df_minority = dataset[dataset.SepsisLabel==1]"
      ],
      "metadata": {
        "id": "IYxEtVGOgxzT"
      },
      "execution_count": 66,
      "outputs": []
    },
    {
      "cell_type": "code",
      "source": [
        "df_minority_upsampled = resample(df_minority, \n",
        "                                 replace=True,     # sample with replacement\n",
        "                                 n_samples=37945,    # to match majority class\n",
        "                                 random_state=123) # reproducible results"
      ],
      "metadata": {
        "id": "JmZw79ieg5Vj"
      },
      "execution_count": 67,
      "outputs": []
    },
    {
      "cell_type": "code",
      "source": [
        "df_upsampled = pd.concat([df_majority, df_minority_upsampled])"
      ],
      "metadata": {
        "id": "gtAVYsXog9TT"
      },
      "execution_count": 68,
      "outputs": []
    },
    {
      "cell_type": "code",
      "source": [
        "df_upsampled.SepsisLabel.value_counts()"
      ],
      "metadata": {
        "colab": {
          "base_uri": "https://localhost:8080/"
        },
        "id": "lusO9jAehAkk",
        "outputId": "64d8f8d9-2486-4f6a-b314-b697951750b3"
      },
      "execution_count": 69,
      "outputs": [
        {
          "output_type": "execute_result",
          "data": {
            "text/plain": [
              "1    37945\n",
              "0    37945\n",
              "Name: SepsisLabel, dtype: int64"
            ]
          },
          "metadata": {},
          "execution_count": 69
        }
      ]
    },
    {
      "cell_type": "code",
      "source": [
        "plt.pie(df_upsampled['SepsisLabel'].value_counts(), labels=['1','0'], autopct='%1.1f%%', shadow=True)\n",
        "plt.show()\n",
        "sns.countplot(x=df_upsampled['SepsisLabel'], label=\"Count\")\n",
        "plt.show()"
      ],
      "metadata": {
        "colab": {
          "base_uri": "https://localhost:8080/",
          "height": 510
        },
        "id": "kYOTxx5thEMb",
        "outputId": "ba726d50-98a9-445f-99c1-95a0d0826cf9"
      },
      "execution_count": 70,
      "outputs": [
        {
          "output_type": "display_data",
          "data": {
            "image/png": "[encoded data removed]",
            "text/plain": [
              "<Figure size 432x288 with 1 Axes>"
            ]
          },
          "metadata": {}
        },
        {
          "output_type": "display_data",
          "data": {
            "image/png": "[encoded data removed]",
            "text/plain": [
              "<Figure size 432x288 with 1 Axes>"
            ]
          },
          "metadata": {
            "needs_background": "light"
          }
        }
      ]
    },
    {
      "cell_type": "code",
      "source": [
        "X = df_upsampled[df_upsampled.columns[0:40]].values"
      ],
      "metadata": {
        "id": "FxkHLcSQhJxj"
      },
      "execution_count": 71,
      "outputs": []
    },
    {
      "cell_type": "code",
      "source": [
        "Y = df_upsampled[df_upsampled.columns[40:]].values\n",
        "Y"
      ],
      "metadata": {
        "colab": {
          "base_uri": "https://localhost:8080/"
        },
        "id": "TFLQOsTwhzis",
        "outputId": "be55a0b6-d5d9-4005-87ea-44c05378529e"
      },
      "execution_count": 72,
      "outputs": [
        {
          "output_type": "execute_result",
          "data": {
            "text/plain": [
              "array([[0],\n",
              "       [0],\n",
              "       [0],\n",
              "       ...,\n",
              "       [1],\n",
              "       [1],\n",
              "       [1]])"
            ]
          },
          "metadata": {},
          "execution_count": 72
        }
      ]
    },
    {
      "cell_type": "code",
      "source": [
        "print(\"sepsis dimensions : {}\".format(df_upsampled.shape))"
      ],
      "metadata": {
        "colab": {
          "base_uri": "https://localhost:8080/"
        },
        "id": "awELkIJBh2Jz",
        "outputId": "aab7d098-2d78-4056-bb19-9d5240fd8b47"
      },
      "execution_count": 73,
      "outputs": [
        {
          "output_type": "stream",
          "name": "stdout",
          "text": [
            "sepsis dimensions : (75890, 41)\n"
          ]
        }
      ]
    },
    {
      "cell_type": "code",
      "source": [
        "print(\"sepsis dimensions without label : {}\".format(X.shape))"
      ],
      "metadata": {
        "colab": {
          "base_uri": "https://localhost:8080/"
        },
        "id": "eLHYYG8Ah4Li",
        "outputId": "b878c329-ba0a-4360-ea17-8a89b99d3192"
      },
      "execution_count": 74,
      "outputs": [
        {
          "output_type": "stream",
          "name": "stdout",
          "text": [
            "sepsis dimensions without label : (75890, 40)\n"
          ]
        }
      ]
    },
    {
      "cell_type": "code",
      "source": [
        "print(\"sepsis dimensions only label : {}\".format(Y.shape))"
      ],
      "metadata": {
        "colab": {
          "base_uri": "https://localhost:8080/"
        },
        "id": "TmDNHdMfh6Ri",
        "outputId": "e20468b0-0eca-4cd8-892c-57f049190cdb"
      },
      "execution_count": 75,
      "outputs": [
        {
          "output_type": "stream",
          "name": "stdout",
          "text": [
            "sepsis dimensions only label : (75890, 1)\n"
          ]
        }
      ]
    },
    {
      "cell_type": "code",
      "source": [
        "labelencoder_Y = preprocessing.LabelEncoder()\n",
        "Y = labelencoder_Y.fit_transform(Y)"
      ],
      "metadata": {
        "id": "TOEVehzJh8_i",
        "colab": {
          "base_uri": "https://localhost:8080/"
        },
        "outputId": "624fd575-ab27-45ee-f4af-8d87aa83c795"
      },
      "execution_count": 76,
      "outputs": [
        {
          "output_type": "stream",
          "name": "stderr",
          "text": [
            "/usr/local/lib/python3.7/dist-packages/sklearn/preprocessing/_label.py:115: DataConversionWarning: A column-vector y was passed when a 1d array was expected. Please change the shape of y to (n_samples, ), for example using ravel().\n",
            "  y = column_or_1d(y, warn=True)\n"
          ]
        }
      ]
    },
    {
      "cell_type": "code",
      "source": [
        "Y"
      ],
      "metadata": {
        "colab": {
          "base_uri": "https://localhost:8080/"
        },
        "id": "rBoY-PjkUnZ1",
        "outputId": "450439f1-827c-472a-e27a-8e206bd88506"
      },
      "execution_count": 77,
      "outputs": [
        {
          "output_type": "execute_result",
          "data": {
            "text/plain": [
              "array([0, 0, 0, ..., 1, 1, 1])"
            ]
          },
          "metadata": {},
          "execution_count": 77
        }
      ]
    },
    {
      "cell_type": "code",
      "source": [
        "X_train, X_test, Y_train, Y_test = train_test_split(X, Y, test_size=0.20, random_state=0)\n",
        "print(\"Training data dimensions :{}\".format(X_train.shape))\n",
        "print(\"Testing data dimensions :{}\".format(X_test.shape))"
      ],
      "metadata": {
        "colab": {
          "base_uri": "https://localhost:8080/"
        },
        "id": "uNNHUIm0iRU6",
        "outputId": "e7fead41-89ff-400b-c058-fca9658f359d"
      },
      "execution_count": 78,
      "outputs": [
        {
          "output_type": "stream",
          "name": "stdout",
          "text": [
            "Training data dimensions :(60712, 40)\n",
            "Testing data dimensions :(15178, 40)\n"
          ]
        }
      ]
    },
    {
      "cell_type": "code",
      "source": [
        "from sklearn.metrics import accuracy_score, log_loss\n",
        "from sklearn.neural_network import MLPClassifier"
      ],
      "metadata": {
        "id": "lN_hoUoQilEJ"
      },
      "execution_count": 79,
      "outputs": []
    },
    {
      "cell_type": "code",
      "source": [
        "clf=MLPClassifier(\n",
        "    activation='tanh',\n",
        "    solver='lbfgs',\n",
        "    early_stopping=False,\n",
        "    hidden_layer_sizes=(40,10,10,10,10, 2),\n",
        "    random_state=1,\n",
        "    batch_size='auto',\n",
        "    max_iter=13000,\n",
        "    learning_rate_init=1e-5,\n",
        "    tol=1e-4,)"
      ],
      "metadata": {
        "id": "EymmOnCqix-b"
      },
      "execution_count": null,
      "outputs": []
    },
    {
      "cell_type": "code",
      "source": [
        "clf.fit(X_train, Y_train)"
      ],
      "metadata": {
        "colab": {
          "base_uri": "https://localhost:8080/"
        },
        "id": "nuVD8b4HjFyZ",
        "outputId": "64907f32-3e6b-46f7-eaa0-09fe588dc03f"
      },
      "execution_count": null,
      "outputs": [
        {
          "output_type": "stream",
          "name": "stderr",
          "text": [
            "/usr/local/lib/python3.7/dist-packages/sklearn/neural_network/_multilayer_perceptron.py:549: ConvergenceWarning: lbfgs failed to converge (status=1):\n",
            "STOP: TOTAL NO. of ITERATIONS REACHED LIMIT.\n",
            "\n",
            "Increase the number of iterations (max_iter) or scale the data as shown in:\n",
            "    https://scikit-learn.org/stable/modules/preprocessing.html\n",
            "  self.n_iter_ = _check_optimize_result(\"lbfgs\", opt_res, self.max_iter)\n"
          ]
        },
        {
          "output_type": "execute_result",
          "data": {
            "text/plain": [
              "MLPClassifier(activation='tanh', hidden_layer_sizes=(40, 10, 10, 10, 10, 2),\n",
              "              learning_rate_init=1e-05, max_iter=13000, random_state=1,\n",
              "              solver='lbfgs')"
            ]
          },
          "metadata": {},
          "execution_count": 22
        }
      ]
    },
    {
      "cell_type": "code",
      "source": [
        "import gzip, pickle\n"
      ],
      "metadata": {
        "id": "SRQtPw3gjpPp"
      },
      "execution_count": 80,
      "outputs": []
    },
    {
      "cell_type": "code",
      "source": [
        "# save the model to disk\n",
        "filename = 'finalized_model.sav'\n",
        "#pickle.dump(clf, open(filename, 'wb'))"
      ],
      "metadata": {
        "id": "rswv0Lvq008y"
      },
      "execution_count": 81,
      "outputs": []
    },
    {
      "cell_type": "code",
      "source": [
        "# load the model from disk\n",
        "loaded_model = pickle.load(open(filename, 'rb'))\n",
        "result = loaded_model.score(X_test, Y_test)\n",
        "print(result)"
      ],
      "metadata": {
        "colab": {
          "base_uri": "https://localhost:8080/"
        },
        "id": "92Polc9w09Lp",
        "outputId": "1f0d827b-e7bb-4157-dae8-b2b96d6634ee"
      },
      "execution_count": 86,
      "outputs": [
        {
          "output_type": "stream",
          "name": "stdout",
          "text": [
            "0.9529582290156806\n"
          ]
        }
      ]
    },
    {
      "cell_type": "code",
      "source": [
        "from sklearn.metrics import confusion_matrix ,ConfusionMatrixDisplay\n"
      ],
      "metadata": {
        "id": "DmCinrYe1u7J"
      },
      "execution_count": 4,
      "outputs": []
    },
    {
      "cell_type": "code",
      "source": [
        "predicted = loaded_model.predict(X_test)\n",
        "print(predicted.shape)\n",
        "print(Y_test.shape)\n",
        "print(confusion_matrix(Y_test,predicted))"
      ],
      "metadata": {
        "colab": {
          "base_uri": "https://localhost:8080/"
        },
        "id": "_msXZ3KY_Tks",
        "outputId": "4e72fac0-0a46-434f-9104-c3be4a8d4ca3"
      },
      "execution_count": null,
      "outputs": [
        {
          "output_type": "stream",
          "name": "stdout",
          "text": [
            "(15178,)\n",
            "(15178,)\n",
            "[[6955  602]\n",
            " [ 112 7509]]\n"
          ]
        }
      ]
    },
    {
      "cell_type": "code",
      "source": [
        "cm=confusion_matrix(Y_test,predicted)\n",
        "disp=ConfusionMatrixDisplay(confusion_matrix=cm,display_labels=clf.classes_)\n",
        "disp.plot()\n",
        "plt.show()\n"
      ],
      "metadata": {
        "colab": {
          "base_uri": "https://localhost:8080/",
          "height": 279
        },
        "id": "S-rbncTOAMOT",
        "outputId": "e40a6434-413c-428c-e830-ab7111f68c92"
      },
      "execution_count": null,
      "outputs": [
        {
          "output_type": "display_data",
          "data": {
            "image/png": "[encoded data removed]",
            "text/plain": [
              "<Figure size 432x288 with 2 Axes>"
            ]
          },
          "metadata": {
            "needs_background": "light"
          }
        }
      ]
    },
    {
      "cell_type": "code",
      "source": [
        "!wget https://raw.githubusercontent.com/nevermind78/Capstone/main/test_D.csv"
      ],
      "metadata": {
        "colab": {
          "base_uri": "https://localhost:8080/"
        },
        "id": "ZzoJpw9ZAbQD",
        "outputId": "ac0d5e5b-9a1b-40fd-a3bd-d6cb9075f49f"
      },
      "execution_count": 9,
      "outputs": [
        {
          "output_type": "stream",
          "name": "stdout",
          "text": [
            "--2021-12-09 08:54:47--  https://raw.githubusercontent.com/nevermind78/Capstone/main/test_D.csv\n",
            "Resolving raw.githubusercontent.com (raw.githubusercontent.com)... 185.199.108.133, 185.199.109.133, 185.199.110.133, ...\n",
            "Connecting to raw.githubusercontent.com (raw.githubusercontent.com)|185.199.108.133|:443... connected.\n",
            "HTTP request sent, awaiting response... 200 OK\n",
            "Length: 4777460 (4.6M) [text/plain]\n",
            "Saving to: ‘test_D.csv’\n",
            "\n",
            "\rtest_D.csv            0%[                    ]       0  --.-KB/s               \rtest_D.csv          100%[===================>]   4.56M  --.-KB/s    in 0.08s   \n",
            "\n",
            "2021-12-09 08:54:47 (59.5 MB/s) - ‘test_D.csv’ saved [4777460/4777460]\n",
            "\n"
          ]
        }
      ]
    },
    {
      "cell_type": "code",
      "source": [
        "df_test =pd.read_csv('test_D.csv')\n",
        "df_test.shape"
      ],
      "metadata": {
        "colab": {
          "base_uri": "https://localhost:8080/"
        },
        "id": "3fuGgkC9YJeE",
        "outputId": "1569d581-8432-42ea-e6da-fdc9bf61c7c5"
      },
      "execution_count": 87,
      "outputs": [
        {
          "output_type": "execute_result",
          "data": {
            "text/plain": [
              "(25210, 42)"
            ]
          },
          "metadata": {},
          "execution_count": 87
        }
      ]
    },
    {
      "cell_type": "code",
      "source": [
        "X2_test = df_test[df_test.columns[0:40]].values\n"
      ],
      "metadata": {
        "id": "K3qzaJ1zZKeT"
      },
      "execution_count": 88,
      "outputs": []
    },
    {
      "cell_type": "code",
      "source": [
        "\n",
        "Y2_test = df_test[df_test.columns[41:]].values\n",
        "Y2_test\n",
        "labelencoder_Y = preprocessing.LabelEncoder()\n",
        "Y2_test = labelencoder_Y.fit_transform(Y2_test)\n",
        "Y2_test"
      ],
      "metadata": {
        "id": "wR7Go63mZ8rZ",
        "colab": {
          "base_uri": "https://localhost:8080/"
        },
        "outputId": "90fec300-938a-4417-9c65-67c432a1ff6f"
      },
      "execution_count": 89,
      "outputs": [
        {
          "output_type": "stream",
          "name": "stderr",
          "text": [
            "/usr/local/lib/python3.7/dist-packages/sklearn/preprocessing/_label.py:115: DataConversionWarning: A column-vector y was passed when a 1d array was expected. Please change the shape of y to (n_samples, ), for example using ravel().\n",
            "  y = column_or_1d(y, warn=True)\n"
          ]
        },
        {
          "output_type": "execute_result",
          "data": {
            "text/plain": [
              "array([0, 0, 0, ..., 0, 0, 0])"
            ]
          },
          "metadata": {},
          "execution_count": 89
        }
      ]
    },
    {
      "cell_type": "code",
      "source": [
        "print(\"sepsis dimensions without label : {}\".format(X2_test.shape))"
      ],
      "metadata": {
        "colab": {
          "base_uri": "https://localhost:8080/"
        },
        "id": "w2UILkljaDmx",
        "outputId": "1375c3ed-0feb-4e3e-d280-5db29af5495f"
      },
      "execution_count": 90,
      "outputs": [
        {
          "output_type": "stream",
          "name": "stdout",
          "text": [
            "sepsis dimensions without label : (25210, 40)\n"
          ]
        }
      ]
    },
    {
      "cell_type": "code",
      "source": [
        "print(\"sepsis dimensions without label : {}\".format(Y2_test.shape))"
      ],
      "metadata": {
        "colab": {
          "base_uri": "https://localhost:8080/"
        },
        "id": "Q5eLu1Z6aFJZ",
        "outputId": "3d7eb5a2-b662-4eb4-82f2-d30ffbaec1f8"
      },
      "execution_count": 91,
      "outputs": [
        {
          "output_type": "stream",
          "name": "stdout",
          "text": [
            "sepsis dimensions without label : (25210,)\n"
          ]
        }
      ]
    },
    {
      "cell_type": "code",
      "source": [
        "loaded_model = pickle.load(open('finalized_model.sav', 'rb'))\n",
        "predicted = loaded_model.predict(X2_test)\n",
        "cm=confusion_matrix(Y2_test,predicted)\n",
        "disp=ConfusionMatrixDisplay(confusion_matrix=cm,display_labels=loaded_model.classes_)\n",
        "disp.plot()\n",
        "plt.show()"
      ],
      "metadata": {
        "colab": {
          "base_uri": "https://localhost:8080/",
          "height": 279
        },
        "id": "RyuuPd03adcx",
        "outputId": "adca7b31-fff6-486b-90a3-47637f282ada"
      },
      "execution_count": 93,
      "outputs": [
        {
          "output_type": "display_data",
          "data": {
            "image/png": "[encoded data removed]",
            "text/plain": [
              "<Figure size 432x288 with 2 Axes>"
            ]
          },
          "metadata": {
            "needs_background": "light"
          }
        }
      ]
    },
    {
      "cell_type": "code",
      "source": [
        "result = loaded_model.score(X2_test, Y2_test)\n",
        "print(result)"
      ],
      "metadata": {
        "colab": {
          "base_uri": "https://localhost:8080/"
        },
        "id": "BLu7usfSb2pP",
        "outputId": "69a6fee5-1aa8-4f89-e6f7-1ce63114765e"
      },
      "execution_count": 94,
      "outputs": [
        {
          "output_type": "stream",
          "name": "stdout",
          "text": [
            "0.7866719555731853\n"
          ]
        }
      ]
    },
    {
      "cell_type": "code",
      "source": [
        ""
      ],
      "metadata": {
        "id": "XeQ3_yh4cBn-"
      },
      "execution_count": null,
      "outputs": []
    }
  ]
}