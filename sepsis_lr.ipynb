{
  "nbformat": 4,
  "nbformat_minor": 0,
  "metadata": {
    "accelerator": "TPU",
    "colab": {
      "name": "sepsis_lr.ipynb",
      "provenance": [],
      "include_colab_link": true
    },
    "kernelspec": {
      "display_name": "Python 3",
      "language": "python",
      "name": "python3"
    },
    "language_info": {
      "codemirror_mode": {
        "name": "ipython",
        "version": 3
      },
      "file_extension": ".py",
      "mimetype": "text/x-python",
      "name": "python",
      "nbconvert_exporter": "python",
      "pygments_lexer": "ipython3",
      "version": "3.7.6"
    }
  },
  "cells": [
    {
      "cell_type": "markdown",
      "metadata": {
        "id": "view-in-github",
        "colab_type": "text"
      },
      "source": [
        "<a href=\"https://colab.research.google.com/github/nevermind78/Capstone/blob/main/sepsis_lr.ipynb\" target=\"_parent\"><img src=\"https://colab.research.google.com/assets/colab-badge.svg\" alt=\"Open In Colab\"/></a>"
      ]
    },
    {
      "cell_type": "markdown",
      "metadata": {
        "id": "NZwML2NQkn2d"
      },
      "source": [
        "# EARLY DETECTION OF SEPSIS ON CLINICAL DATA USING MACHINE LEARNING ALGORITHMS"
      ]
    },
    {
      "cell_type": "markdown",
      "metadata": {
        "id": "0GxX6U27kn2m"
      },
      "source": [
        "# IMPORT STATEMENTS"
      ]
    },
    {
      "cell_type": "markdown",
      "metadata": {
        "id": "hndQ1mzlkn2o"
      },
      "source": [
        "matplotlib.pyplot is a collection of command style functions that make matplotlib work like MATLAB. Each pyplot function makes some change to a figure: e.g., creates a figure, creates a plotting area in a figure, plots some lines in a plotting area, decorates the plot with labels, etc.\n",
        "\n",
        "Seaborn is a library for making statistical graphics in Python.\n",
        "\n",
        "pandas is a software library written for the Python programming language for data manipulation and analysis. In particular, it offers data structures and operations for manipulating numerical tables and time series.\n",
        "\n",
        "The sklearn.preprocessing package provides several common utility functions and transformer classes to change raw feature vectors into a representation that is more suitable for the downstream estimators.\n",
        "\n",
        "train_test_split is a function in Sklearn model selection for splitting data arrays into two subsets: for training data and for testing data. With this function, you don't need to divide the dataset manually."
      ]
    },
    {
      "cell_type": "code",
      "metadata": {
        "id": "wR-ahc5skn2q"
      },
      "source": [
        "import matplotlib.pyplot as plt\n",
        "import seaborn as sns\n",
        "import pandas as pd\n",
        "from sklearn import preprocessing\n",
        "from sklearn.model_selection import train_test_split"
      ],
      "execution_count": 1,
      "outputs": []
    },
    {
      "cell_type": "markdown",
      "metadata": {
        "id": "AfCEquzBkn2t"
      },
      "source": [
        "read_csv is an important pandas function to read csv files and do operations on it."
      ]
    },
    {
      "cell_type": "code",
      "metadata": {
        "id": "f6ysJxbTkn2u"
      },
      "source": [
        "dataset = pd.read_csv(\"sepsis.csv\")"
      ],
      "execution_count": 2,
      "outputs": []
    },
    {
      "cell_type": "markdown",
      "metadata": {
        "id": "oksglpkckn2u"
      },
      "source": [
        "The value_counts() method returns a Series containing the counts of unique values. This means, for any column in a dataframe, this method returns the count of unique entries in that column."
      ]
    },
    {
      "cell_type": "code",
      "metadata": {
        "colab": {
          "base_uri": "https://localhost:8080/"
        },
        "id": "0P6F6yHakn2w",
        "outputId": "e638bb83-23a5-40cf-ef38-1eb01200771f"
      },
      "source": [
        "dataset['SepsisLabel'].value_counts()"
      ],
      "execution_count": 3,
      "outputs": [
        {
          "output_type": "execute_result",
          "data": {
            "text/plain": [
              "0    37945\n",
              "1      864\n",
              "Name: SepsisLabel, dtype: int64"
            ]
          },
          "metadata": {},
          "execution_count": 3
        }
      ]
    },
    {
      "cell_type": "markdown",
      "metadata": {
        "id": "1dYEveqQkn2z"
      },
      "source": [
        "method plt.pie() is used to create a plot.\n",
        "\n",
        "plt.show() is used to display the figure.\n",
        "\n",
        "The countplot plot can be thought of as a histogram across a categorical variable."
      ]
    },
    {
      "cell_type": "code",
      "metadata": {
        "colab": {
          "base_uri": "https://localhost:8080/",
          "height": 565
        },
        "id": "b71fpVB3kn20",
        "outputId": "5f7bcb4e-eb8f-4b30-ae49-f7804f8a2f0e"
      },
      "source": [
        "plt.pie(dataset['SepsisLabel'].value_counts(), labels=['0','1'], autopct='%1.1f%%', shadow=True)\n",
        "plt.show()\n",
        "sns.countplot(dataset['SepsisLabel'], label=\"Count\")\n",
        "plt.show()"
      ],
      "execution_count": 4,
      "outputs": [
        {
          "output_type": "display_data",
          "data": {
            "image/png": "[encoded data removed]",
            "text/plain": [
              "<Figure size 432x288 with 1 Axes>"
            ]
          },
          "metadata": {}
        },
        {
          "output_type": "stream",
          "name": "stderr",
          "text": [
            "/usr/local/lib/python3.7/dist-packages/seaborn/_decorators.py:43: FutureWarning: Pass the following variable as a keyword arg: x. From version 0.12, the only valid positional argument will be `data`, and passing other arguments without an explicit keyword will result in an error or misinterpretation.\n",
            "  FutureWarning\n"
          ]
        },
        {
          "output_type": "display_data",
          "data": {
            "image/png": "[encoded data removed]",
            "text/plain": [
              "<Figure size 432x288 with 1 Axes>"
            ]
          },
          "metadata": {
            "needs_background": "light"
          }
        }
      ]
    },
    {
      "cell_type": "markdown",
      "metadata": {
        "id": "a_iZk_N3kn22"
      },
      "source": [
        "Resample arrays or sparse matrices in a consistent way."
      ]
    },
    {
      "cell_type": "code",
      "metadata": {
        "id": "yw4NBKjwkn22"
      },
      "source": [
        "from sklearn.utils import resample\n",
        "df_majority = dataset[dataset.SepsisLabel==0]\n",
        "df_minority = dataset[dataset.SepsisLabel==1]"
      ],
      "execution_count": 5,
      "outputs": []
    },
    {
      "cell_type": "markdown",
      "metadata": {
        "id": "jw5n_PGVkn23"
      },
      "source": [
        "The resample() function is used to resample time-series data."
      ]
    },
    {
      "cell_type": "code",
      "metadata": {
        "id": "ulSjQEz-kn24"
      },
      "source": [
        "df_minority_upsampled = resample(df_minority, \n",
        "                                 replace=True,     # sample with replacement\n",
        "                                 n_samples=37945,    # to match majority class\n",
        "                                 random_state=123) # reproducible results"
      ],
      "execution_count": 6,
      "outputs": []
    },
    {
      "cell_type": "markdown",
      "metadata": {
        "id": "0JzcW204kn25"
      },
      "source": [
        "The concat() function does all of the heavy lifting of performing concatenation operations along an axis while performing optional set logic of the indexes on the other axes."
      ]
    },
    {
      "cell_type": "code",
      "metadata": {
        "id": "2-YnQdi6kn25"
      },
      "source": [
        "df_upsampled = pd.concat([df_majority, df_minority_upsampled])"
      ],
      "execution_count": 7,
      "outputs": []
    },
    {
      "cell_type": "code",
      "metadata": {
        "colab": {
          "base_uri": "https://localhost:8080/"
        },
        "id": "pKWXJzHgkn26",
        "outputId": "5ae98f10-7289-4fc3-e2a0-7b85588815ed"
      },
      "source": [
        "df_upsampled.SepsisLabel.value_counts()"
      ],
      "execution_count": 8,
      "outputs": [
        {
          "output_type": "execute_result",
          "data": {
            "text/plain": [
              "1    37945\n",
              "0    37945\n",
              "Name: SepsisLabel, dtype: int64"
            ]
          },
          "metadata": {},
          "execution_count": 8
        }
      ]
    },
    {
      "cell_type": "code",
      "metadata": {
        "colab": {
          "base_uri": "https://localhost:8080/",
          "height": 565
        },
        "id": "GsB9JnPpkn27",
        "outputId": "412ccd7d-d166-43f3-e193-39aedfe01977"
      },
      "source": [
        "plt.pie(df_upsampled['SepsisLabel'].value_counts(), labels=['1','0'], autopct='%1.1f%%', shadow=True)\n",
        "plt.show()\n",
        "sns.countplot(df_upsampled['SepsisLabel'], label=\"Count\")\n",
        "plt.show()"
      ],
      "execution_count": 9,
      "outputs": [
        {
          "output_type": "display_data",
          "data": {
            "image/png": "[encoded data removed]",
            "text/plain": [
              "<Figure size 432x288 with 1 Axes>"
            ]
          },
          "metadata": {}
        },
        {
          "output_type": "stream",
          "name": "stderr",
          "text": [
            "/usr/local/lib/python3.7/dist-packages/seaborn/_decorators.py:43: FutureWarning: Pass the following variable as a keyword arg: x. From version 0.12, the only valid positional argument will be `data`, and passing other arguments without an explicit keyword will result in an error or misinterpretation.\n",
            "  FutureWarning\n"
          ]
        },
        {
          "output_type": "display_data",
          "data": {
            "image/png": "[encoded data removed]",
            "text/plain": [
              "<Figure size 432x288 with 1 Axes>"
            ]
          },
          "metadata": {
            "needs_background": "light"
          }
        }
      ]
    },
    {
      "cell_type": "markdown",
      "metadata": {
        "id": "6-Jtgr8Gkn28"
      },
      "source": [
        "Now that we've read our dataset.\n",
        "\n",
        "Create dataset X by excluding label column"
      ]
    },
    {
      "cell_type": "code",
      "metadata": {
        "id": "vIJAVb4ekn29"
      },
      "source": [
        "X = df_upsampled[df_upsampled.columns[0:40]].values"
      ],
      "execution_count": 10,
      "outputs": []
    },
    {
      "cell_type": "markdown",
      "metadata": {
        "id": "nQC-HFR3kn29"
      },
      "source": [
        "Create dataset Y by only label column"
      ]
    },
    {
      "cell_type": "code",
      "metadata": {
        "id": "fCZkJsqBkn2-"
      },
      "source": [
        "Y = df_upsampled[df_upsampled.columns[40:]].values"
      ],
      "execution_count": 11,
      "outputs": []
    },
    {
      "cell_type": "markdown",
      "metadata": {
        "id": "kuxHcchikn2-"
      },
      "source": [
        "Printing dimensions of sepsis dataset"
      ]
    },
    {
      "cell_type": "code",
      "metadata": {
        "colab": {
          "base_uri": "https://localhost:8080/"
        },
        "id": "Mf6yaD4jkn2_",
        "outputId": "35b134c1-7ec4-4acf-f1a5-2c0c6a5f8f9b"
      },
      "source": [
        "print(\"sepsis dimensions : {}\".format(df_upsampled.shape))"
      ],
      "execution_count": 12,
      "outputs": [
        {
          "output_type": "stream",
          "name": "stdout",
          "text": [
            "sepsis dimensions : (75890, 41)\n"
          ]
        }
      ]
    },
    {
      "cell_type": "markdown",
      "metadata": {
        "id": "7qCvS3-Dkn2_"
      },
      "source": [
        "Printing dimensions of sepsis dataset without label column"
      ]
    },
    {
      "cell_type": "code",
      "metadata": {
        "colab": {
          "base_uri": "https://localhost:8080/"
        },
        "id": "sz4BLTOtkn3A",
        "outputId": "ec59af21-d580-4b68-ee8d-b275a42c3234"
      },
      "source": [
        "print(\"sepsis dimensions without label : {}\".format(X.shape))"
      ],
      "execution_count": 13,
      "outputs": [
        {
          "output_type": "stream",
          "name": "stdout",
          "text": [
            "sepsis dimensions without label : (75890, 40)\n"
          ]
        }
      ]
    },
    {
      "cell_type": "markdown",
      "metadata": {
        "id": "7EF4txvckn3A"
      },
      "source": [
        "Printing dimensions of sepsis dataset only with label column"
      ]
    },
    {
      "cell_type": "code",
      "metadata": {
        "colab": {
          "base_uri": "https://localhost:8080/"
        },
        "id": "zrJ8FCiAkn3B",
        "outputId": "640c5fbf-f0eb-485e-f64f-8eca0e5318f4"
      },
      "source": [
        "print(\"sepsis dimensions only label : {}\".format(Y.shape))"
      ],
      "execution_count": 14,
      "outputs": [
        {
          "output_type": "stream",
          "name": "stdout",
          "text": [
            "sepsis dimensions only label : (75890, 1)\n"
          ]
        }
      ]
    },
    {
      "cell_type": "markdown",
      "metadata": {
        "id": "MunoNfpFkn3B"
      },
      "source": [
        "LabelEncoder is used to normalize labels."
      ]
    },
    {
      "cell_type": "code",
      "metadata": {
        "colab": {
          "base_uri": "https://localhost:8080/"
        },
        "id": "4pl-Gleqkn3C",
        "outputId": "be2badf3-8edb-43e4-86fb-6a8babf24f0c"
      },
      "source": [
        "labelencoder_Y = preprocessing.LabelEncoder()\n",
        "Y = labelencoder_Y.fit_transform(Y)"
      ],
      "execution_count": 15,
      "outputs": [
        {
          "output_type": "stream",
          "name": "stderr",
          "text": [
            "/usr/local/lib/python3.7/dist-packages/sklearn/preprocessing/_label.py:115: DataConversionWarning: A column-vector y was passed when a 1d array was expected. Please change the shape of y to (n_samples, ), for example using ravel().\n",
            "  y = column_or_1d(y, warn=True)\n"
          ]
        }
      ]
    },
    {
      "cell_type": "markdown",
      "metadata": {
        "id": "fw42Fvhtkn3C"
      },
      "source": [
        "For splitting data into train set and test set, train_test_split function is used"
      ]
    },
    {
      "cell_type": "code",
      "metadata": {
        "colab": {
          "base_uri": "https://localhost:8080/"
        },
        "id": "wzeVeePLkn3D",
        "outputId": "73ca29c1-6826-4ff4-e993-f6daa6751157"
      },
      "source": [
        "X_train, X_test, Y_train, Y_test = train_test_split(X, Y, test_size=0.20, random_state=0)\n",
        "print(\"Training data dimensions :{}\".format(X_train.shape))\n",
        "print(\"Testing data dimensions :{}\".format(X_test.shape))"
      ],
      "execution_count": 16,
      "outputs": [
        {
          "output_type": "stream",
          "name": "stdout",
          "text": [
            "Training data dimensions :(60712, 40)\n",
            "Testing data dimensions :(15178, 40)\n"
          ]
        }
      ]
    },
    {
      "cell_type": "markdown",
      "metadata": {
        "id": "2kLodwlskn3D"
      },
      "source": [
        "# Comparing Machine Learning Algorithms Consistently"
      ]
    },
    {
      "cell_type": "markdown",
      "metadata": {
        "id": "KD8HANC_kn3E"
      },
      "source": [
        "The key to a fair comparison of machine learning algorithms is ensuring that each algorithm is evaluated in the same way on the same data.\n",
        "\n",
        "You can achieve this by forcing each algorithm to be evaluated on a consistent test harness."
      ]
    },
    {
      "cell_type": "markdown",
      "metadata": {
        "id": "qfPgsMjFkn3E"
      },
      "source": [
        "In the followin code, we have considered the following machine learning algorithms\n",
        "\n",
        "MLP Classifier,\n",
        "\n",
        "AdaBoost Classifier,\n",
        "\n",
        "Gradient Boosting Classifier,\n",
        "\n",
        "GaussianNB,\n",
        "\n",
        "Linear Discriminant Analysis,\n",
        "\n",
        "Quadratic Discriminant Analysis.\n",
        "\n",
        "And also print the accuracy for the algorithms mentioned above respectively."
      ]
    },
    {
      "cell_type": "code",
      "metadata": {
        "colab": {
          "base_uri": "https://localhost:8080/"
        },
        "id": "s27rxdCokn3E",
        "outputId": "30a99a93-f5eb-4694-cbbf-90ee50141815"
      },
      "source": [
        "from sklearn.metrics import accuracy_score, log_loss\n",
        "from sklearn.neighbors import KNeighborsClassifier\n",
        "from sklearn.svm import SVC, LinearSVC, NuSVC\n",
        "from sklearn.tree import DecisionTreeClassifier\n",
        "from sklearn.ensemble import RandomForestClassifier, AdaBoostClassifier, GradientBoostingClassifier\n",
        "from sklearn.naive_bayes import GaussianNB\n",
        "from sklearn.discriminant_analysis import LinearDiscriminantAnalysis\n",
        "from sklearn.discriminant_analysis import QuadraticDiscriminantAnalysis\n",
        "from sklearn.neural_network import MLPClassifier\n",
        "classifiers = [\n",
        "    MLPClassifier(\n",
        "    activation='tanh',\n",
        "    solver='lbfgs',\n",
        "    early_stopping=False,\n",
        "    hidden_layer_sizes=(40,10,10,10,10, 2),\n",
        "    random_state=1,\n",
        "    batch_size='auto',\n",
        "    max_iter=13000,\n",
        "    learning_rate_init=1e-5,\n",
        "    tol=1e-4,\n",
        "),\n",
        "    AdaBoostClassifier(),\n",
        "    GradientBoostingClassifier(),\n",
        "    GaussianNB(),\n",
        "    LinearDiscriminantAnalysis(),\n",
        "    QuadraticDiscriminantAnalysis()]\n",
        "\n",
        "# Logging for Visual Comparison\n",
        "log_cols=[\"Classifier\", \"Accuracy\", \"Log Loss\"]\n",
        "log = pd.DataFrame(columns=log_cols)\n",
        "\n",
        "for clf in classifiers:\n",
        "    clf.fit(X_train, Y_train)\n",
        "    name = clf.__class__.__name__\n",
        "    \n",
        "    print(\"=\"*30)\n",
        "    print(name)\n",
        "    \n",
        "    print('****Results****')\n",
        "    train_predictions = clf.predict(X_test)\n",
        "    acc = accuracy_score(Y_test, train_predictions)\n",
        "    print(\"Accuracy: {:.4%}\".format(acc))\n",
        "    \n",
        "    train_predictions = clf.predict_proba(X_test)\n",
        "    ll = log_loss(Y_test, train_predictions)\n",
        "    print(\"Log Loss: {}\".format(ll))\n",
        "    \n",
        "    log_entry = pd.DataFrame([[name, acc*100, ll]], columns=log_cols)\n",
        "    log = log.append(log_entry)\n",
        "    \n",
        "print(\"=\"*30)"
      ],
      "execution_count": 17,
      "outputs": [
        {
          "output_type": "stream",
          "name": "stderr",
          "text": [
            "/usr/local/lib/python3.7/dist-packages/sklearn/neural_network/_multilayer_perceptron.py:549: ConvergenceWarning: lbfgs failed to converge (status=1):\n",
            "STOP: TOTAL NO. of ITERATIONS REACHED LIMIT.\n",
            "\n",
            "Increase the number of iterations (max_iter) or scale the data as shown in:\n",
            "    https://scikit-learn.org/stable/modules/preprocessing.html\n",
            "  self.n_iter_ = _check_optimize_result(\"lbfgs\", opt_res, self.max_iter)\n"
          ]
        },
        {
          "output_type": "stream",
          "name": "stdout",
          "text": [
            "==============================\n",
            "MLPClassifier\n",
            "****Results****\n",
            "Accuracy: 95.2958%\n",
            "Log Loss: 0.15212903438131947\n",
            "==============================\n",
            "AdaBoostClassifier\n",
            "****Results****\n",
            "Accuracy: 79.8261%\n",
            "Log Loss: 0.6731792683873681\n",
            "==============================\n",
            "GradientBoostingClassifier\n",
            "****Results****\n",
            "Accuracy: 91.3954%\n",
            "Log Loss: 0.31111460107876754\n",
            "==============================\n",
            "GaussianNB\n",
            "****Results****\n",
            "Accuracy: 57.7678%\n",
            "Log Loss: 2.120984212868764\n",
            "==============================\n",
            "LinearDiscriminantAnalysis\n",
            "****Results****\n",
            "Accuracy: 72.4074%\n",
            "Log Loss: 0.5490759157904654\n",
            "==============================\n",
            "QuadraticDiscriminantAnalysis\n",
            "****Results****\n",
            "Accuracy: 51.3177%\n",
            "Log Loss: 13.859768195743552\n",
            "==============================\n"
          ]
        },
        {
          "output_type": "stream",
          "name": "stderr",
          "text": [
            "/usr/local/lib/python3.7/dist-packages/sklearn/discriminant_analysis.py:878: UserWarning: Variables are collinear\n",
            "  warnings.warn(\"Variables are collinear\")\n"
          ]
        }
      ]
    },
    {
      "cell_type": "markdown",
      "metadata": {
        "id": "gWSrVpzykn3G"
      },
      "source": [
        "For comparision purpose, We have printed Bar Graph for Classifier Accuracy and Classifier Log Loss."
      ]
    },
    {
      "cell_type": "code",
      "metadata": {
        "id": "5_YJxTiLkn3G",
        "colab": {
          "base_uri": "https://localhost:8080/",
          "height": 573
        },
        "outputId": "709e4a08-9024-4a3e-8a30-6dc05c953878"
      },
      "source": [
        "sns.set_color_codes(\"muted\")\n",
        "sns.barplot(x='Accuracy', y='Classifier', data=log, color=\"b\")\n",
        "\n",
        "plt.xlabel('Accuracy %')\n",
        "plt.title('Classifier Accuracy')\n",
        "plt.show()\n",
        "\n",
        "sns.set_color_codes(\"muted\")\n",
        "sns.barplot(x='Log Loss', y='Classifier', data=log, color=\"g\")\n",
        "\n",
        "plt.xlabel('Log Loss')\n",
        "plt.title('Classifier Log Loss')\n",
        "plt.show()"
      ],
      "execution_count": 18,
      "outputs": [
        {
          "output_type": "display_data",
          "data": {
            "image/png": "[encoded data removed]",
            "text/plain": [
              "<Figure size 432x288 with 1 Axes>"
            ]
          },
          "metadata": {
            "needs_background": "light"
          }
        },
        {
          "output_type": "display_data",
          "data": {
            "image/png": "[encoded data removed]",
            "text/plain": [
              "<Figure size 432x288 with 1 Axes>"
            ]
          },
          "metadata": {
            "needs_background": "light"
          }
        }
      ]
    },
    {
      "cell_type": "code",
      "metadata": {
        "id": "b2e6cFKqPNdA"
      },
      "source": [
        ""
      ],
      "execution_count": 18,
      "outputs": []
    }
  ]
}